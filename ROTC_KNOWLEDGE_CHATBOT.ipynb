{
  "nbformat": 4,
  "nbformat_minor": 0,
  "metadata": {
    "colab": {
      "provenance": []
    },
    "kernelspec": {
      "name": "python3",
      "display_name": "Python 3"
    },
    "language_info": {
      "name": "python"
    }
  },
  "cells": [
    {
      "cell_type": "markdown",
      "source": [
        "# TOPICS\n",
        "-"
      ],
      "metadata": {
        "id": "MzCYfV2kFZZP"
      }
    },
    {
      "cell_type": "markdown",
      "source": [
        "# Step 1: Install dependencies and import libraries"
      ],
      "metadata": {
        "id": "huRL64Kv-9Lr"
      }
    },
    {
      "cell_type": "code",
      "execution_count": null,
      "metadata": {
        "colab": {
          "base_uri": "https://localhost:8080/"
        },
        "collapsed": true,
        "id": "HTpS8FF01Nf8",
        "outputId": "68d25117-df52-4e0a-fa0c-0686049a481e"
      },
      "outputs": [
        {
          "output_type": "stream",
          "name": "stdout",
          "text": [
            "Requirement already satisfied: tensorflow in /usr/local/lib/python3.10/dist-packages (2.17.1)\n",
            "Requirement already satisfied: absl-py>=1.0.0 in /usr/local/lib/python3.10/dist-packages (from tensorflow) (1.4.0)\n",
            "Requirement already satisfied: astunparse>=1.6.0 in /usr/local/lib/python3.10/dist-packages (from tensorflow) (1.6.3)\n",
            "Requirement already satisfied: flatbuffers>=24.3.25 in /usr/local/lib/python3.10/dist-packages (from tensorflow) (24.3.25)\n",
            "Requirement already satisfied: gast!=0.5.0,!=0.5.1,!=0.5.2,>=0.2.1 in /usr/local/lib/python3.10/dist-packages (from tensorflow) (0.6.0)\n",
            "Requirement already satisfied: google-pasta>=0.1.1 in /usr/local/lib/python3.10/dist-packages (from tensorflow) (0.2.0)\n",
            "Requirement already satisfied: h5py>=3.10.0 in /usr/local/lib/python3.10/dist-packages (from tensorflow) (3.12.1)\n",
            "Requirement already satisfied: libclang>=13.0.0 in /usr/local/lib/python3.10/dist-packages (from tensorflow) (18.1.1)\n",
            "Requirement already satisfied: ml-dtypes<0.5.0,>=0.3.1 in /usr/local/lib/python3.10/dist-packages (from tensorflow) (0.4.1)\n",
            "Requirement already satisfied: opt-einsum>=2.3.2 in /usr/local/lib/python3.10/dist-packages (from tensorflow) (3.4.0)\n",
            "Requirement already satisfied: packaging in /usr/local/lib/python3.10/dist-packages (from tensorflow) (24.2)\n",
            "Requirement already satisfied: protobuf!=4.21.0,!=4.21.1,!=4.21.2,!=4.21.3,!=4.21.4,!=4.21.5,<5.0.0dev,>=3.20.3 in /usr/local/lib/python3.10/dist-packages (from tensorflow) (4.25.5)\n",
            "Requirement already satisfied: requests<3,>=2.21.0 in /usr/local/lib/python3.10/dist-packages (from tensorflow) (2.32.3)\n",
            "Requirement already satisfied: setuptools in /usr/local/lib/python3.10/dist-packages (from tensorflow) (75.1.0)\n",
            "Requirement already satisfied: six>=1.12.0 in /usr/local/lib/python3.10/dist-packages (from tensorflow) (1.17.0)\n",
            "Requirement already satisfied: termcolor>=1.1.0 in /usr/local/lib/python3.10/dist-packages (from tensorflow) (2.5.0)\n",
            "Requirement already satisfied: typing-extensions>=3.6.6 in /usr/local/lib/python3.10/dist-packages (from tensorflow) (4.12.2)\n",
            "Requirement already satisfied: wrapt>=1.11.0 in /usr/local/lib/python3.10/dist-packages (from tensorflow) (1.17.0)\n",
            "Requirement already satisfied: grpcio<2.0,>=1.24.3 in /usr/local/lib/python3.10/dist-packages (from tensorflow) (1.68.1)\n",
            "Requirement already satisfied: tensorboard<2.18,>=2.17 in /usr/local/lib/python3.10/dist-packages (from tensorflow) (2.17.1)\n",
            "Requirement already satisfied: keras>=3.2.0 in /usr/local/lib/python3.10/dist-packages (from tensorflow) (3.5.0)\n",
            "Requirement already satisfied: tensorflow-io-gcs-filesystem>=0.23.1 in /usr/local/lib/python3.10/dist-packages (from tensorflow) (0.37.1)\n",
            "Requirement already satisfied: numpy<2.0.0,>=1.23.5 in /usr/local/lib/python3.10/dist-packages (from tensorflow) (1.26.4)\n",
            "Requirement already satisfied: wheel<1.0,>=0.23.0 in /usr/local/lib/python3.10/dist-packages (from astunparse>=1.6.0->tensorflow) (0.45.1)\n",
            "Requirement already satisfied: rich in /usr/local/lib/python3.10/dist-packages (from keras>=3.2.0->tensorflow) (13.9.4)\n",
            "Requirement already satisfied: namex in /usr/local/lib/python3.10/dist-packages (from keras>=3.2.0->tensorflow) (0.0.8)\n",
            "Requirement already satisfied: optree in /usr/local/lib/python3.10/dist-packages (from keras>=3.2.0->tensorflow) (0.13.1)\n",
            "Requirement already satisfied: charset-normalizer<4,>=2 in /usr/local/lib/python3.10/dist-packages (from requests<3,>=2.21.0->tensorflow) (3.4.0)\n",
            "Requirement already satisfied: idna<4,>=2.5 in /usr/local/lib/python3.10/dist-packages (from requests<3,>=2.21.0->tensorflow) (3.10)\n",
            "Requirement already satisfied: urllib3<3,>=1.21.1 in /usr/local/lib/python3.10/dist-packages (from requests<3,>=2.21.0->tensorflow) (2.2.3)\n",
            "Requirement already satisfied: certifi>=2017.4.17 in /usr/local/lib/python3.10/dist-packages (from requests<3,>=2.21.0->tensorflow) (2024.12.14)\n",
            "Requirement already satisfied: markdown>=2.6.8 in /usr/local/lib/python3.10/dist-packages (from tensorboard<2.18,>=2.17->tensorflow) (3.7)\n",
            "Requirement already satisfied: tensorboard-data-server<0.8.0,>=0.7.0 in /usr/local/lib/python3.10/dist-packages (from tensorboard<2.18,>=2.17->tensorflow) (0.7.2)\n",
            "Requirement already satisfied: werkzeug>=1.0.1 in /usr/local/lib/python3.10/dist-packages (from tensorboard<2.18,>=2.17->tensorflow) (3.1.3)\n",
            "Requirement already satisfied: MarkupSafe>=2.1.1 in /usr/local/lib/python3.10/dist-packages (from werkzeug>=1.0.1->tensorboard<2.18,>=2.17->tensorflow) (3.0.2)\n",
            "Requirement already satisfied: markdown-it-py>=2.2.0 in /usr/local/lib/python3.10/dist-packages (from rich->keras>=3.2.0->tensorflow) (3.0.0)\n",
            "Requirement already satisfied: pygments<3.0.0,>=2.13.0 in /usr/local/lib/python3.10/dist-packages (from rich->keras>=3.2.0->tensorflow) (2.18.0)\n",
            "Requirement already satisfied: mdurl~=0.1 in /usr/local/lib/python3.10/dist-packages (from markdown-it-py>=2.2.0->rich->keras>=3.2.0->tensorflow) (0.1.2)\n"
          ]
        },
        {
          "output_type": "stream",
          "name": "stderr",
          "text": [
            "[nltk_data] Downloading package punkt to /root/nltk_data...\n",
            "[nltk_data]   Package punkt is already up-to-date!\n",
            "[nltk_data] Downloading package punkt_tab to /root/nltk_data...\n",
            "[nltk_data]   Package punkt_tab is already up-to-date!\n"
          ]
        },
        {
          "output_type": "execute_result",
          "data": {
            "text/plain": [
              "True"
            ]
          },
          "metadata": {},
          "execution_count": 90
        }
      ],
      "source": [
        "# Install dependencies\n",
        "!pip install tensorflow\n",
        "import pandas as pd\n",
        "import numpy as np\n",
        "import nltk\n",
        "import os\n",
        "from sklearn.model_selection import train_test_split\n",
        "from sklearn.metrics import classification_report, confusion_matrix\n",
        "from sklearn.utils.class_weight import compute_class_weight\n",
        "from tensorflow.keras.preprocessing.text import Tokenizer\n",
        "from tensorflow.keras.preprocessing.sequence import pad_sequences\n",
        "from tensorflow.keras.models import Sequential, load_model\n",
        "from tensorflow.keras.layers import LSTM, Dense, Embedding\n",
        "from tensorflow.keras.callbacks import EarlyStopping, ModelCheckpoint, Callback\n",
        "from sklearn.metrics import f1_score\n",
        "import matplotlib.pyplot as plt\n",
        "from tensorflow.keras.metrics import Precision, Recall\n",
        "from sklearn.metrics import classification_report\n",
        "from tensorflow.keras.utils import to_categorical  # Import to_categorical\n",
        "\n",
        "# Download punkt tokenizer for text cleaning\n",
        "nltk.download('punkt')\n",
        "nltk.download('punkt_tab')"
      ]
    },
    {
      "cell_type": "markdown",
      "source": [
        "# Step 2: Load the dataset and clean the data"
      ],
      "metadata": {
        "id": "c2lkMLLf-_x8"
      }
    },
    {
      "cell_type": "code",
      "source": [
        "rotc_df = pd.read_csv('/content/ROTC_DATASET.csv')\n",
        "\n",
        "rotc_feedback_df = pd.read_csv('/content/ROTC_Feedback.csv')\n",
        "\n",
        "print(rotc_df.columns)\n",
        "print(rotc_feedback_df.columns)\n",
        "\n",
        "rotc_df.columns = rotc_feedback_df.columns\n",
        "\n",
        "combined_df = pd.concat([rotc_df, rotc_feedback_df], ignore_index=True)\n",
        "\n",
        "combined_csv_path = '/content/ROTC_DATASET_FINAL.csv'\n",
        "combined_df.to_csv(combined_csv_path, index=False)\n",
        "\n",
        "combined_df.head()"
      ],
      "metadata": {
        "colab": {
          "base_uri": "https://localhost:8080/",
          "height": 328
        },
        "id": "GhwK3CtnkPTb",
        "outputId": "1b8a8c24-503d-4c6c-c561-672bd3112b02"
      },
      "execution_count": null,
      "outputs": [
        {
          "output_type": "stream",
          "name": "stdout",
          "text": [
            "Index(['Attribute', 'Pattern', 'Response', 'Correlation'], dtype='object')\n",
            "Index(['Attribute', 'Pattern', 'Response', 'Correlation'], dtype='object')\n"
          ]
        },
        {
          "output_type": "execute_result",
          "data": {
            "text/plain": [
              "             Attribute                                            Pattern  \\\n",
              "0           Leadership  What are the qualities of a good military leader?   \n",
              "1  Drills and Commands            What is the purpose of military drills?   \n",
              "2      Military Values          What are the core values in the military?   \n",
              "3      Military Values          Why are values important in the military?   \n",
              "4           Leadership  What are the qualities of a good military leader?   \n",
              "\n",
              "                                            Response  \\\n",
              "0  A good leader is decisive, disciplined, and em...   \n",
              "1  Drills ensure precision, discipline, and effec...   \n",
              "2  The core values include honor, integrity, loya...   \n",
              "3  Values ensure that military personnel uphold e...   \n",
              "4  A good leader is decisive, disciplined, and em...   \n",
              "\n",
              "                                         Correlation  \n",
              "0  Effective leadership builds trust, enhances mo...  \n",
              "1  They prepare cadets for real-life scenarios re...  \n",
              "2  These values guide soldiers in their professio...  \n",
              "3  Strong values promote trust, respect, and unit...  \n",
              "4  Effective leadership builds trust, enhances mo...  "
            ],
            "text/html": [
              "\n",
              "  <div id=\"df-8b0f8e2d-2e76-42a6-9e14-1d11ba26dc3e\" class=\"colab-df-container\">\n",
              "    <div>\n",
              "<style scoped>\n",
              "    .dataframe tbody tr th:only-of-type {\n",
              "        vertical-align: middle;\n",
              "    }\n",
              "\n",
              "    .dataframe tbody tr th {\n",
              "        vertical-align: top;\n",
              "    }\n",
              "\n",
              "    .dataframe thead th {\n",
              "        text-align: right;\n",
              "    }\n",
              "</style>\n",
              "<table border=\"1\" class=\"dataframe\">\n",
              "  <thead>\n",
              "    <tr style=\"text-align: right;\">\n",
              "      <th></th>\n",
              "      <th>Attribute</th>\n",
              "      <th>Pattern</th>\n",
              "      <th>Response</th>\n",
              "      <th>Correlation</th>\n",
              "    </tr>\n",
              "  </thead>\n",
              "  <tbody>\n",
              "    <tr>\n",
              "      <th>0</th>\n",
              "      <td>Leadership</td>\n",
              "      <td>What are the qualities of a good military leader?</td>\n",
              "      <td>A good leader is decisive, disciplined, and em...</td>\n",
              "      <td>Effective leadership builds trust, enhances mo...</td>\n",
              "    </tr>\n",
              "    <tr>\n",
              "      <th>1</th>\n",
              "      <td>Drills and Commands</td>\n",
              "      <td>What is the purpose of military drills?</td>\n",
              "      <td>Drills ensure precision, discipline, and effec...</td>\n",
              "      <td>They prepare cadets for real-life scenarios re...</td>\n",
              "    </tr>\n",
              "    <tr>\n",
              "      <th>2</th>\n",
              "      <td>Military Values</td>\n",
              "      <td>What are the core values in the military?</td>\n",
              "      <td>The core values include honor, integrity, loya...</td>\n",
              "      <td>These values guide soldiers in their professio...</td>\n",
              "    </tr>\n",
              "    <tr>\n",
              "      <th>3</th>\n",
              "      <td>Military Values</td>\n",
              "      <td>Why are values important in the military?</td>\n",
              "      <td>Values ensure that military personnel uphold e...</td>\n",
              "      <td>Strong values promote trust, respect, and unit...</td>\n",
              "    </tr>\n",
              "    <tr>\n",
              "      <th>4</th>\n",
              "      <td>Leadership</td>\n",
              "      <td>What are the qualities of a good military leader?</td>\n",
              "      <td>A good leader is decisive, disciplined, and em...</td>\n",
              "      <td>Effective leadership builds trust, enhances mo...</td>\n",
              "    </tr>\n",
              "  </tbody>\n",
              "</table>\n",
              "</div>\n",
              "    <div class=\"colab-df-buttons\">\n",
              "\n",
              "  <div class=\"colab-df-container\">\n",
              "    <button class=\"colab-df-convert\" onclick=\"convertToInteractive('df-8b0f8e2d-2e76-42a6-9e14-1d11ba26dc3e')\"\n",
              "            title=\"Convert this dataframe to an interactive table.\"\n",
              "            style=\"display:none;\">\n",
              "\n",
              "  <svg xmlns=\"http://www.w3.org/2000/svg\" height=\"24px\" viewBox=\"0 -960 960 960\">\n",
              "    <path d=\"M120-120v-720h720v720H120Zm60-500h600v-160H180v160Zm220 220h160v-160H400v160Zm0 220h160v-160H400v160ZM180-400h160v-160H180v160Zm440 0h160v-160H620v160ZM180-180h160v-160H180v160Zm440 0h160v-160H620v160Z\"/>\n",
              "  </svg>\n",
              "    </button>\n",
              "\n",
              "  <style>\n",
              "    .colab-df-container {\n",
              "      display:flex;\n",
              "      gap: 12px;\n",
              "    }\n",
              "\n",
              "    .colab-df-convert {\n",
              "      background-color: #E8F0FE;\n",
              "      border: none;\n",
              "      border-radius: 50%;\n",
              "      cursor: pointer;\n",
              "      display: none;\n",
              "      fill: #1967D2;\n",
              "      height: 32px;\n",
              "      padding: 0 0 0 0;\n",
              "      width: 32px;\n",
              "    }\n",
              "\n",
              "    .colab-df-convert:hover {\n",
              "      background-color: #E2EBFA;\n",
              "      box-shadow: 0px 1px 2px rgba(60, 64, 67, 0.3), 0px 1px 3px 1px rgba(60, 64, 67, 0.15);\n",
              "      fill: #174EA6;\n",
              "    }\n",
              "\n",
              "    .colab-df-buttons div {\n",
              "      margin-bottom: 4px;\n",
              "    }\n",
              "\n",
              "    [theme=dark] .colab-df-convert {\n",
              "      background-color: #3B4455;\n",
              "      fill: #D2E3FC;\n",
              "    }\n",
              "\n",
              "    [theme=dark] .colab-df-convert:hover {\n",
              "      background-color: #434B5C;\n",
              "      box-shadow: 0px 1px 3px 1px rgba(0, 0, 0, 0.15);\n",
              "      filter: drop-shadow(0px 1px 2px rgba(0, 0, 0, 0.3));\n",
              "      fill: #FFFFFF;\n",
              "    }\n",
              "  </style>\n",
              "\n",
              "    <script>\n",
              "      const buttonEl =\n",
              "        document.querySelector('#df-8b0f8e2d-2e76-42a6-9e14-1d11ba26dc3e button.colab-df-convert');\n",
              "      buttonEl.style.display =\n",
              "        google.colab.kernel.accessAllowed ? 'block' : 'none';\n",
              "\n",
              "      async function convertToInteractive(key) {\n",
              "        const element = document.querySelector('#df-8b0f8e2d-2e76-42a6-9e14-1d11ba26dc3e');\n",
              "        const dataTable =\n",
              "          await google.colab.kernel.invokeFunction('convertToInteractive',\n",
              "                                                    [key], {});\n",
              "        if (!dataTable) return;\n",
              "\n",
              "        const docLinkHtml = 'Like what you see? Visit the ' +\n",
              "          '<a target=\"_blank\" href=https://colab.research.google.com/notebooks/data_table.ipynb>data table notebook</a>'\n",
              "          + ' to learn more about interactive tables.';\n",
              "        element.innerHTML = '';\n",
              "        dataTable['output_type'] = 'display_data';\n",
              "        await google.colab.output.renderOutput(dataTable, element);\n",
              "        const docLink = document.createElement('div');\n",
              "        docLink.innerHTML = docLinkHtml;\n",
              "        element.appendChild(docLink);\n",
              "      }\n",
              "    </script>\n",
              "  </div>\n",
              "\n",
              "\n",
              "<div id=\"df-23361f44-3cbd-4a8d-a94a-765b58c81a2a\">\n",
              "  <button class=\"colab-df-quickchart\" onclick=\"quickchart('df-23361f44-3cbd-4a8d-a94a-765b58c81a2a')\"\n",
              "            title=\"Suggest charts\"\n",
              "            style=\"display:none;\">\n",
              "\n",
              "<svg xmlns=\"http://www.w3.org/2000/svg\" height=\"24px\"viewBox=\"0 0 24 24\"\n",
              "     width=\"24px\">\n",
              "    <g>\n",
              "        <path d=\"M19 3H5c-1.1 0-2 .9-2 2v14c0 1.1.9 2 2 2h14c1.1 0 2-.9 2-2V5c0-1.1-.9-2-2-2zM9 17H7v-7h2v7zm4 0h-2V7h2v10zm4 0h-2v-4h2v4z\"/>\n",
              "    </g>\n",
              "</svg>\n",
              "  </button>\n",
              "\n",
              "<style>\n",
              "  .colab-df-quickchart {\n",
              "      --bg-color: #E8F0FE;\n",
              "      --fill-color: #1967D2;\n",
              "      --hover-bg-color: #E2EBFA;\n",
              "      --hover-fill-color: #174EA6;\n",
              "      --disabled-fill-color: #AAA;\n",
              "      --disabled-bg-color: #DDD;\n",
              "  }\n",
              "\n",
              "  [theme=dark] .colab-df-quickchart {\n",
              "      --bg-color: #3B4455;\n",
              "      --fill-color: #D2E3FC;\n",
              "      --hover-bg-color: #434B5C;\n",
              "      --hover-fill-color: #FFFFFF;\n",
              "      --disabled-bg-color: #3B4455;\n",
              "      --disabled-fill-color: #666;\n",
              "  }\n",
              "\n",
              "  .colab-df-quickchart {\n",
              "    background-color: var(--bg-color);\n",
              "    border: none;\n",
              "    border-radius: 50%;\n",
              "    cursor: pointer;\n",
              "    display: none;\n",
              "    fill: var(--fill-color);\n",
              "    height: 32px;\n",
              "    padding: 0;\n",
              "    width: 32px;\n",
              "  }\n",
              "\n",
              "  .colab-df-quickchart:hover {\n",
              "    background-color: var(--hover-bg-color);\n",
              "    box-shadow: 0 1px 2px rgba(60, 64, 67, 0.3), 0 1px 3px 1px rgba(60, 64, 67, 0.15);\n",
              "    fill: var(--button-hover-fill-color);\n",
              "  }\n",
              "\n",
              "  .colab-df-quickchart-complete:disabled,\n",
              "  .colab-df-quickchart-complete:disabled:hover {\n",
              "    background-color: var(--disabled-bg-color);\n",
              "    fill: var(--disabled-fill-color);\n",
              "    box-shadow: none;\n",
              "  }\n",
              "\n",
              "  .colab-df-spinner {\n",
              "    border: 2px solid var(--fill-color);\n",
              "    border-color: transparent;\n",
              "    border-bottom-color: var(--fill-color);\n",
              "    animation:\n",
              "      spin 1s steps(1) infinite;\n",
              "  }\n",
              "\n",
              "  @keyframes spin {\n",
              "    0% {\n",
              "      border-color: transparent;\n",
              "      border-bottom-color: var(--fill-color);\n",
              "      border-left-color: var(--fill-color);\n",
              "    }\n",
              "    20% {\n",
              "      border-color: transparent;\n",
              "      border-left-color: var(--fill-color);\n",
              "      border-top-color: var(--fill-color);\n",
              "    }\n",
              "    30% {\n",
              "      border-color: transparent;\n",
              "      border-left-color: var(--fill-color);\n",
              "      border-top-color: var(--fill-color);\n",
              "      border-right-color: var(--fill-color);\n",
              "    }\n",
              "    40% {\n",
              "      border-color: transparent;\n",
              "      border-right-color: var(--fill-color);\n",
              "      border-top-color: var(--fill-color);\n",
              "    }\n",
              "    60% {\n",
              "      border-color: transparent;\n",
              "      border-right-color: var(--fill-color);\n",
              "    }\n",
              "    80% {\n",
              "      border-color: transparent;\n",
              "      border-right-color: var(--fill-color);\n",
              "      border-bottom-color: var(--fill-color);\n",
              "    }\n",
              "    90% {\n",
              "      border-color: transparent;\n",
              "      border-bottom-color: var(--fill-color);\n",
              "    }\n",
              "  }\n",
              "</style>\n",
              "\n",
              "  <script>\n",
              "    async function quickchart(key) {\n",
              "      const quickchartButtonEl =\n",
              "        document.querySelector('#' + key + ' button');\n",
              "      quickchartButtonEl.disabled = true;  // To prevent multiple clicks.\n",
              "      quickchartButtonEl.classList.add('colab-df-spinner');\n",
              "      try {\n",
              "        const charts = await google.colab.kernel.invokeFunction(\n",
              "            'suggestCharts', [key], {});\n",
              "      } catch (error) {\n",
              "        console.error('Error during call to suggestCharts:', error);\n",
              "      }\n",
              "      quickchartButtonEl.classList.remove('colab-df-spinner');\n",
              "      quickchartButtonEl.classList.add('colab-df-quickchart-complete');\n",
              "    }\n",
              "    (() => {\n",
              "      let quickchartButtonEl =\n",
              "        document.querySelector('#df-23361f44-3cbd-4a8d-a94a-765b58c81a2a button');\n",
              "      quickchartButtonEl.style.display =\n",
              "        google.colab.kernel.accessAllowed ? 'block' : 'none';\n",
              "    })();\n",
              "  </script>\n",
              "</div>\n",
              "\n",
              "    </div>\n",
              "  </div>\n"
            ],
            "application/vnd.google.colaboratory.intrinsic+json": {
              "type": "dataframe",
              "variable_name": "combined_df",
              "summary": "{\n  \"name\": \"combined_df\",\n  \"rows\": 2143,\n  \"fields\": [\n    {\n      \"column\": \"Attribute\",\n      \"properties\": {\n        \"dtype\": \"category\",\n        \"num_unique_values\": 577,\n        \"samples\": [\n          \"Attrition\",\n          \"Values\",\n          \"Uniform Standard Compliance\"\n        ],\n        \"semantic_type\": \"\",\n        \"description\": \"\"\n      }\n    },\n    {\n      \"column\": \"Pattern\",\n      \"properties\": {\n        \"dtype\": \"string\",\n        \"num_unique_values\": 1821,\n        \"samples\": [\n          \"Conflict Resolution\",\n          \"How does a flamethrower work?\",\n          \"Youth engagement\"\n        ],\n        \"semantic_type\": \"\",\n        \"description\": \"\"\n      }\n    },\n    {\n      \"column\": \"Response\",\n      \"properties\": {\n        \"dtype\": \"string\",\n        \"num_unique_values\": 1679,\n        \"samples\": [\n          \"Post-war reconstruction involves rebuilding societies and economies after a conflict.\",\n          \"The M16 has semi-automatic, burst, and fully automatic modes, depending on the model.\",\n          \"Volunteerism in ROTC allows cadets to give back to the community.\"\n        ],\n        \"semantic_type\": \"\",\n        \"description\": \"\"\n      }\n    },\n    {\n      \"column\": \"Correlation\",\n      \"properties\": {\n        \"dtype\": \"string\",\n        \"num_unique_values\": 1708,\n        \"samples\": [\n          \"The overall national plan to achieve victory in war.\",\n          \"Effective instructors are role models for cadets, demonstrating the behaviors expected of a military professional.\",\n          \"Professionalism helps cadets build trust and respect with their peers, which is essential for teamwork and leadership.\"\n        ],\n        \"semantic_type\": \"\",\n        \"description\": \"\"\n      }\n    }\n  ]\n}"
            }
          },
          "metadata": {},
          "execution_count": 91
        }
      ]
    },
    {
      "cell_type": "code",
      "source": [
        "# Load the dataset\n",
        "df = pd.read_csv('/content/ROTC_DATASET_FINAL.csv')\n",
        "\n",
        "# Data Cleaning function\n",
        "def clean_text(text):\n",
        "    text = text.lower()  # Convert to lowercase\n",
        "    text = nltk.word_tokenize(text)  # Tokenize words\n",
        "    text = [word for word in text if word.isalnum()]  # Remove non-alphanumeric tokens\n",
        "    return ' '.join(text)\n",
        "\n",
        "# Combine 'Pattern' and 'Attribute And Correlation' for input\n",
        "df['Pattern'] = df['Pattern']\n",
        "\n",
        "# Clean the 'Pattern' and 'Response' columns\n",
        "df['Pattern'] = df['Pattern'].apply(clean_text)\n",
        "df['Response'] = df['Response'].apply(clean_text)\n",
        "df['Attribute'] = df['Attribute'].apply(clean_text)\n",
        "df['Correlation'] = df['Correlation'].apply(clean_text)\n",
        "\n",
        "# Remove fully duplicate rows\n",
        "df = df.drop_duplicates()\n",
        "\n",
        "# Handle duplicates in the 'Pattern' column by keeping the first occurrence\n",
        "df = df.drop_duplicates(subset='Pattern', keep='first')\n",
        "\n",
        "# Create a new column with formatted responses\n",
        "df['Formatted_Response'] = df['Response'] + \" | Attributes - \" + df['Attribute'] + \" | Correlation - \" + df['Correlation']\n"
      ],
      "metadata": {
        "id": "cKkHQXQu2-eb"
      },
      "execution_count": null,
      "outputs": []
    },
    {
      "cell_type": "markdown",
      "source": [
        "# Step 3: Tokenize and pad the input data"
      ],
      "metadata": {
        "id": "x6pTNPbj_GCZ"
      }
    },
    {
      "cell_type": "code",
      "source": [
        "# Tokenize the patterns\n",
        "tokenizer = Tokenizer()\n",
        "tokenizer.fit_on_texts(df['Pattern'])\n",
        "X = tokenizer.texts_to_sequences(df['Pattern'])\n",
        "\n",
        "# Padding the sequences to ensure uniform input length\n",
        "X_pad = pad_sequences(X, padding='post')\n",
        "\n",
        "# Encode the responses as integers\n",
        "y = np.array([i for i in range(len(df['Formatted_Response']))])\n",
        "\n",
        "# Show tokenized input and padded sequences\n",
        "X_pad[:5], y[:5]\n",
        "\n"
      ],
      "metadata": {
        "colab": {
          "base_uri": "https://localhost:8080/"
        },
        "id": "2-WOMgxb3Jjf",
        "outputId": "57f4f6ed-35ea-463d-978d-da5776c82fcd"
      },
      "execution_count": null,
      "outputs": [
        {
          "output_type": "execute_result",
          "data": {
            "text/plain": [
              "(array([[  1,  11,   2, 152,   6,  10, 246,   7, 102,   0,   0,   0,   0,\n",
              "           0,   0,   0],\n",
              "        [  1,   3,   2,  57,   6,   7, 117,   0,   0,   0,   0,   0,   0,\n",
              "           0,   0,   0],\n",
              "        [  1,  11,   2, 424, 129,   4,   2,   7,   0,   0,   0,   0,   0,\n",
              "           0,   0,   0],\n",
              "        [ 19,  11, 129,  30,   4,   2,   7,   0,   0,   0,   0,   0,   0,\n",
              "           0,   0,   0],\n",
              "        [  1,   3,   7,  22,   0,   0,   0,   0,   0,   0,   0,   0,   0,\n",
              "           0,   0,   0]], dtype=int32),\n",
              " array([0, 1, 2, 3, 4]))"
            ]
          },
          "metadata": {},
          "execution_count": 93
        }
      ]
    },
    {
      "cell_type": "code",
      "source": [
        "# Calculate the original lengths of tokenized sequences\n",
        "sequence_lengths = [len(seq) for seq in X]\n",
        "\n",
        "# Plot 1: Histogram of sequence lengths\n",
        "plt.figure(figsize=(12, 6))\n",
        "plt.hist(sequence_lengths, bins=20, color='skyblue', edgecolor='black')\n",
        "plt.title('Distribution of Sequence Lengths (Before Padding)')\n",
        "plt.xlabel('Sequence Length')\n",
        "plt.ylabel('Frequency')\n",
        "plt.grid(axis='y', linestyle='--', alpha=0.7)\n",
        "plt.show()\n",
        "\n",
        "# Plot 2: Frequency of Encoded Responses\n",
        "unique, counts = np.unique(y, return_counts=True)\n",
        "plt.figure(figsize=(12, 6))\n",
        "plt.bar(unique, counts, color='salmon', edgecolor='black')\n",
        "plt.title('Frequency of Encoded Responses')\n",
        "plt.xlabel('Encoded Response Index')\n",
        "plt.ylabel('Frequency')\n",
        "plt.grid(axis='y', linestyle='--', alpha=0.7)\n",
        "plt.show()"
      ],
      "metadata": {
        "colab": {
          "base_uri": "https://localhost:8080/",
          "height": 1000
        },
        "id": "_p_nolB-izSI",
        "outputId": "21faeec3-6ad1-468a-8f4b-95e877fa672a"
      },
      "execution_count": null,
      "outputs": [
        {
          "output_type": "display_data",
          "data": {
            "text/plain": [
              "<Figure size 1200x600 with 1 Axes>"
            ],
            "image/png": "[encoded data removed]"
          },
          "metadata": {}
        },
        {
          "output_type": "display_data",
          "data": {
            "text/plain": [
              "<Figure size 1200x600 with 1 Axes>"
            ],
            "image/png": "[encoded data removed]"
          },
          "metadata": {}
        }
      ]
    },
    {
      "cell_type": "markdown",
      "source": [
        "# Step 4: Split the data into training and validation sets"
      ],
      "metadata": {
        "id": "TFgBOIEf_NYb"
      }
    },
    {
      "cell_type": "code",
      "source": [
        "# Train-Test Split\n",
        "X_train, X_val, y_train, y_val = train_test_split(X_pad, y, test_size=0.2, random_state=42)"
      ],
      "metadata": {
        "id": "796rHlhY3das"
      },
      "execution_count": null,
      "outputs": []
    },
    {
      "cell_type": "code",
      "source": [
        "# Calculate counts for training and validation sets\n",
        "train_count = len(y_train)\n",
        "val_count = len(y_val)\n",
        "\n",
        "# Labels for the graph\n",
        "labels = ['Training Set', 'Validation Set']\n",
        "counts = [train_count, val_count]\n",
        "\n",
        "# Create a bar plot\n",
        "plt.figure(figsize=(8, 5))\n",
        "plt.bar(labels, counts, color=['skyblue', 'salmon'], edgecolor='black')\n",
        "plt.title('Distribution of Data in Training and Validation Sets')\n",
        "plt.ylabel('Number of Samples')\n",
        "plt.grid(axis='y', linestyle='--', alpha=0.7)\n",
        "\n",
        "# Show the values on top of the bars\n",
        "for i, count in enumerate(counts):\n",
        "    plt.text(i, count + 50, str(count), ha='center', fontsize=12)\n",
        "\n",
        "plt.show()"
      ],
      "metadata": {
        "colab": {
          "base_uri": "https://localhost:8080/",
          "height": 468
        },
        "id": "1KffKL5_jIH7",
        "outputId": "b4652fef-356b-40cc-9954-c07d78f865d4"
      },
      "execution_count": null,
      "outputs": [
        {
          "output_type": "display_data",
          "data": {
            "text/plain": [
              "<Figure size 800x500 with 1 Axes>"
            ],
            "image/png": "[encoded data removed]"
          },
          "metadata": {}
        }
      ]
    },
    {
      "cell_type": "markdown",
      "source": [
        "# Step 5: Build the LSTM model"
      ],
      "metadata": {
        "id": "eXGlMTdK_TMR"
      }
    },
    {
      "cell_type": "code",
      "source": [
        "# Path to save the model checkpoint\n",
        "checkpoint_path = '/content/ROTC_chatbot_model_checkpoint.keras'\n",
        "\n",
        "# Check if a checkpoint exists and load the model if so\n",
        "if os.path.exists(checkpoint_path):\n",
        "    print(\"Checkpoint found! Loading the model...\")\n",
        "    model = load_model(checkpoint_path)  # Load the model from checkpoint\n",
        "else:\n",
        "    print(\"No checkpoint found. Creating a new model.\")\n",
        "    model = Sequential()\n",
        "    model.add(Embedding(input_dim=len(tokenizer.word_index) + 1, output_dim=32, input_length=X_pad.shape[1]))\n",
        "    model.add(LSTM(64, return_sequences=False))\n",
        "    model.add(Dense(32, activation='relu'))\n",
        "    model.add(Dense(len(df['Formatted_Response']), activation='softmax'))\n",
        "    model.compile(loss='sparse_categorical_crossentropy', optimizer='adam', metrics=['accuracy'])\n",
        "\n",
        "model.summary()"
      ],
      "metadata": {
        "colab": {
          "base_uri": "https://localhost:8080/",
          "height": 344
        },
        "id": "OTvTdIP73f9O",
        "outputId": "3c06af3f-56ec-43d3-c4df-646b4b96d50d"
      },
      "execution_count": null,
      "outputs": [
        {
          "output_type": "stream",
          "name": "stdout",
          "text": [
            "No checkpoint found. Creating a new model.\n"
          ]
        },
        {
          "output_type": "stream",
          "name": "stderr",
          "text": [
            "/usr/local/lib/python3.10/dist-packages/keras/src/layers/core/embedding.py:90: UserWarning: Argument `input_length` is deprecated. Just remove it.\n",
            "  warnings.warn(\n"
          ]
        },
        {
          "output_type": "display_data",
          "data": {
            "text/plain": [
              "\u001b[1mModel: \"sequential_2\"\u001b[0m\n"
            ],
            "text/html": [
              "<pre style=\"white-space:pre;overflow-x:auto;line-height:normal;font-family:Menlo,'DejaVu Sans Mono',consolas,'Courier New',monospace\"><span style=\"font-weight: bold\">Model: \"sequential_2\"</span>\n",
              "</pre>\n"
            ]
          },
          "metadata": {}
        },
        {
          "output_type": "display_data",
          "data": {
            "text/plain": [
              "┏━━━━━━━━━━━━━━━━━━━━━━━━━━━━━━━━━━━━━━┳━━━━━━━━━━━━━━━━━━━━━━━━━━━━━┳━━━━━━━━━━━━━━━━━┓\n",
              "┃\u001b[1m \u001b[0m\u001b[1mLayer (type)                        \u001b[0m\u001b[1m \u001b[0m┃\u001b[1m \u001b[0m\u001b[1mOutput Shape               \u001b[0m\u001b[1m \u001b[0m┃\u001b[1m \u001b[0m\u001b[1m        Param #\u001b[0m\u001b[1m \u001b[0m┃\n",
              "┡━━━━━━━━━━━━━━━━━━━━━━━━━━━━━━━━━━━━━━╇━━━━━━━━━━━━━━━━━━━━━━━━━━━━━╇━━━━━━━━━━━━━━━━━┩\n",
              "│ embedding_2 (\u001b[38;5;33mEmbedding\u001b[0m)              │ ?                           │     \u001b[38;5;34m0\u001b[0m (unbuilt) │\n",
              "├──────────────────────────────────────┼─────────────────────────────┼─────────────────┤\n",
              "│ lstm_2 (\u001b[38;5;33mLSTM\u001b[0m)                        │ ?                           │     \u001b[38;5;34m0\u001b[0m (unbuilt) │\n",
              "├──────────────────────────────────────┼─────────────────────────────┼─────────────────┤\n",
              "│ dense_4 (\u001b[38;5;33mDense\u001b[0m)                      │ ?                           │     \u001b[38;5;34m0\u001b[0m (unbuilt) │\n",
              "├──────────────────────────────────────┼─────────────────────────────┼─────────────────┤\n",
              "│ dense_5 (\u001b[38;5;33mDense\u001b[0m)                      │ ?                           │     \u001b[38;5;34m0\u001b[0m (unbuilt) │\n",
              "└──────────────────────────────────────┴─────────────────────────────┴─────────────────┘\n"
            ],
            "text/html": [
              "<pre style=\"white-space:pre;overflow-x:auto;line-height:normal;font-family:Menlo,'DejaVu Sans Mono',consolas,'Courier New',monospace\">┏━━━━━━━━━━━━━━━━━━━━━━━━━━━━━━━━━━━━━━┳━━━━━━━━━━━━━━━━━━━━━━━━━━━━━┳━━━━━━━━━━━━━━━━━┓\n",
              "┃<span style=\"font-weight: bold\"> Layer (type)                         </span>┃<span style=\"font-weight: bold\"> Output Shape                </span>┃<span style=\"font-weight: bold\">         Param # </span>┃\n",
              "┡━━━━━━━━━━━━━━━━━━━━━━━━━━━━━━━━━━━━━━╇━━━━━━━━━━━━━━━━━━━━━━━━━━━━━╇━━━━━━━━━━━━━━━━━┩\n",
              "│ embedding_2 (<span style=\"color: #0087ff; text-decoration-color: #0087ff\">Embedding</span>)              │ ?                           │     <span style=\"color: #00af00; text-decoration-color: #00af00\">0</span> (unbuilt) │\n",
              "├──────────────────────────────────────┼─────────────────────────────┼─────────────────┤\n",
              "│ lstm_2 (<span style=\"color: #0087ff; text-decoration-color: #0087ff\">LSTM</span>)                        │ ?                           │     <span style=\"color: #00af00; text-decoration-color: #00af00\">0</span> (unbuilt) │\n",
              "├──────────────────────────────────────┼─────────────────────────────┼─────────────────┤\n",
              "│ dense_4 (<span style=\"color: #0087ff; text-decoration-color: #0087ff\">Dense</span>)                      │ ?                           │     <span style=\"color: #00af00; text-decoration-color: #00af00\">0</span> (unbuilt) │\n",
              "├──────────────────────────────────────┼─────────────────────────────┼─────────────────┤\n",
              "│ dense_5 (<span style=\"color: #0087ff; text-decoration-color: #0087ff\">Dense</span>)                      │ ?                           │     <span style=\"color: #00af00; text-decoration-color: #00af00\">0</span> (unbuilt) │\n",
              "└──────────────────────────────────────┴─────────────────────────────┴─────────────────┘\n",
              "</pre>\n"
            ]
          },
          "metadata": {}
        },
        {
          "output_type": "display_data",
          "data": {
            "text/plain": [
              "\u001b[1m Total params: \u001b[0m\u001b[38;5;34m0\u001b[0m (0.00 B)\n"
            ],
            "text/html": [
              "<pre style=\"white-space:pre;overflow-x:auto;line-height:normal;font-family:Menlo,'DejaVu Sans Mono',consolas,'Courier New',monospace\"><span style=\"font-weight: bold\"> Total params: </span><span style=\"color: #00af00; text-decoration-color: #00af00\">0</span> (0.00 B)\n",
              "</pre>\n"
            ]
          },
          "metadata": {}
        },
        {
          "output_type": "display_data",
          "data": {
            "text/plain": [
              "\u001b[1m Trainable params: \u001b[0m\u001b[38;5;34m0\u001b[0m (0.00 B)\n"
            ],
            "text/html": [
              "<pre style=\"white-space:pre;overflow-x:auto;line-height:normal;font-family:Menlo,'DejaVu Sans Mono',consolas,'Courier New',monospace\"><span style=\"font-weight: bold\"> Trainable params: </span><span style=\"color: #00af00; text-decoration-color: #00af00\">0</span> (0.00 B)\n",
              "</pre>\n"
            ]
          },
          "metadata": {}
        },
        {
          "output_type": "display_data",
          "data": {
            "text/plain": [
              "\u001b[1m Non-trainable params: \u001b[0m\u001b[38;5;34m0\u001b[0m (0.00 B)\n"
            ],
            "text/html": [
              "<pre style=\"white-space:pre;overflow-x:auto;line-height:normal;font-family:Menlo,'DejaVu Sans Mono',consolas,'Courier New',monospace\"><span style=\"font-weight: bold\"> Non-trainable params: </span><span style=\"color: #00af00; text-decoration-color: #00af00\">0</span> (0.00 B)\n",
              "</pre>\n"
            ]
          },
          "metadata": {}
        }
      ]
    },
    {
      "cell_type": "markdown",
      "source": [
        "# Step 6: Set up early stopping and model checkpoint callbacks"
      ],
      "metadata": {
        "id": "mZXifSHN_gVa"
      }
    },
    {
      "cell_type": "code",
      "source": [
        "# Callbacks for early stopping and checkpoints\n",
        "checkpoint_callback = ModelCheckpoint(\n",
        "    checkpoint_path, save_best_only=True, monitor='loss', verbose=1\n",
        ")\n",
        "\n",
        "# Custom callback to stop training when accuracy reaches a threshold\n",
        "class AccuracyThresholdCallback(Callback):\n",
        "    def __init__(self, accuracy_threshold=0.99):\n",
        "        super(AccuracyThresholdCallback, self).__init__()\n",
        "        self.accuracy_threshold = accuracy_threshold\n",
        "\n",
        "    def on_epoch_end(self, epoch, logs=None):\n",
        "        accuracy = logs.get('accuracy')\n",
        "        if accuracy is not None and accuracy >= self.accuracy_threshold:\n",
        "            print(f\"\\nEpoch {epoch + 1}: Accuracy has reached {self.accuracy_threshold}, stopping training.\")\n",
        "            self.model.stop_training = True\n",
        "\n",
        "# Initialize the accuracy threshold callback\n",
        "accuracy_threshold_callback = AccuracyThresholdCallback(accuracy_threshold=0.99)"
      ],
      "metadata": {
        "id": "WmwMzR0t_ffy"
      },
      "execution_count": null,
      "outputs": []
    },
    {
      "cell_type": "markdown",
      "source": [
        "# Step 7: Train the model"
      ],
      "metadata": {
        "id": "u64GKaxr_luY"
      }
    },
    {
      "cell_type": "code",
      "source": [
        "# Calculate class weights to handle imbalanced data\n",
        "class_weights = compute_class_weight(class_weight='balanced', classes=np.unique(y_train), y=y_train)\n",
        "\n",
        "# Train the model with the callbacks\n",
        "history = model.fit(\n",
        "    X_train, y_train,\n",
        "    epochs=100,\n",
        "    batch_size=32,\n",
        "    validation_data=(X_val, y_val),\n",
        "    callbacks=[checkpoint_callback, accuracy_threshold_callback],\n",
        "    class_weight={i: class_weights[i] for i in range(len(class_weights))}\n",
        ")"
      ],
      "metadata": {
        "colab": {
          "base_uri": "https://localhost:8080/"
        },
        "id": "2YBy5BS6_mO3",
        "outputId": "1ecd8e5a-fd3c-4fad-dd70-28fd223dba06"
      },
      "execution_count": null,
      "outputs": [
        {
          "output_type": "stream",
          "name": "stdout",
          "text": [
            "Epoch 1/100\n",
            "\u001b[1m43/45\u001b[0m \u001b[32m━━━━━━━━━━━━━━━━━━━\u001b[0m\u001b[37m━\u001b[0m \u001b[1m0s\u001b[0m 13ms/step - accuracy: 0.0000e+00 - loss: 7.4925\n",
            "Epoch 1: loss improved from inf to 7.49718, saving model to /content/ROTC_chatbot_model_checkpoint.keras\n",
            "\u001b[1m45/45\u001b[0m \u001b[32m━━━━━━━━━━━━━━━━━━━━\u001b[0m\u001b[37m\u001b[0m \u001b[1m3s\u001b[0m 23ms/step - accuracy: 0.0000e+00 - loss: 7.4928 - val_accuracy: 0.0000e+00 - val_loss: 7.5107\n",
            "Epoch 2/100\n",
            "\u001b[1m45/45\u001b[0m \u001b[32m━━━━━━━━━━━━━━━━━━━━\u001b[0m\u001b[37m\u001b[0m \u001b[1m0s\u001b[0m 13ms/step - accuracy: 0.0000e+00 - loss: 7.4835\n",
            "Epoch 2: loss improved from 7.49718 to 7.48314, saving model to /content/ROTC_chatbot_model_checkpoint.keras\n",
            "\u001b[1m45/45\u001b[0m \u001b[32m━━━━━━━━━━━━━━━━━━━━\u001b[0m\u001b[37m\u001b[0m \u001b[1m1s\u001b[0m 16ms/step - accuracy: 0.0000e+00 - loss: 7.4835 - val_accuracy: 0.0000e+00 - val_loss: 7.5473\n",
            "Epoch 3/100\n",
            "\u001b[1m41/45\u001b[0m \u001b[32m━━━━━━━━━━━━━━━━━━\u001b[0m\u001b[37m━━\u001b[0m \u001b[1m0s\u001b[0m 13ms/step - accuracy: 0.0000e+00 - loss: 7.4755\n",
            "Epoch 3: loss improved from 7.48314 to 7.47498, saving model to /content/ROTC_chatbot_model_checkpoint.keras\n",
            "\u001b[1m45/45\u001b[0m \u001b[32m━━━━━━━━━━━━━━━━━━━━\u001b[0m\u001b[37m\u001b[0m \u001b[1m1s\u001b[0m 16ms/step - accuracy: 0.0000e+00 - loss: 7.4755 - val_accuracy: 0.0000e+00 - val_loss: 7.5949\n",
            "Epoch 4/100\n",
            "\u001b[1m45/45\u001b[0m \u001b[32m━━━━━━━━━━━━━━━━━━━━\u001b[0m\u001b[37m\u001b[0m \u001b[1m0s\u001b[0m 13ms/step - accuracy: 0.0000e+00 - loss: 7.4643\n",
            "Epoch 4: loss improved from 7.47498 to 7.46780, saving model to /content/ROTC_chatbot_model_checkpoint.keras\n",
            "\u001b[1m45/45\u001b[0m \u001b[32m━━━━━━━━━━━━━━━━━━━━\u001b[0m\u001b[37m\u001b[0m \u001b[1m1s\u001b[0m 16ms/step - accuracy: 0.0000e+00 - loss: 7.4644 - val_accuracy: 0.0000e+00 - val_loss: 7.6542\n",
            "Epoch 5/100\n",
            "\u001b[1m41/45\u001b[0m \u001b[32m━━━━━━━━━━━━━━━━━━\u001b[0m\u001b[37m━━\u001b[0m \u001b[1m0s\u001b[0m 13ms/step - accuracy: 0.0000e+00 - loss: 7.4437\n",
            "Epoch 5: loss improved from 7.46780 to 7.44718, saving model to /content/ROTC_chatbot_model_checkpoint.keras\n",
            "\u001b[1m45/45\u001b[0m \u001b[32m━━━━━━━━━━━━━━━━━━━━\u001b[0m\u001b[37m\u001b[0m \u001b[1m1s\u001b[0m 16ms/step - accuracy: 0.0000e+00 - loss: 7.4440 - val_accuracy: 0.0000e+00 - val_loss: 8.0664\n",
            "Epoch 6/100\n",
            "\u001b[1m45/45\u001b[0m \u001b[32m━━━━━━━━━━━━━━━━━━━━\u001b[0m\u001b[37m\u001b[0m \u001b[1m0s\u001b[0m 13ms/step - accuracy: 7.4781e-04 - loss: 7.4057\n",
            "Epoch 6: loss improved from 7.44718 to 7.41390, saving model to /content/ROTC_chatbot_model_checkpoint.keras\n",
            "\u001b[1m45/45\u001b[0m \u001b[32m━━━━━━━━━━━━━━━━━━━━\u001b[0m\u001b[37m\u001b[0m \u001b[1m1s\u001b[0m 18ms/step - accuracy: 7.4673e-04 - loss: 7.4058 - val_accuracy: 0.0000e+00 - val_loss: 8.3252\n",
            "Epoch 7/100\n",
            "\u001b[1m44/45\u001b[0m \u001b[32m━━━━━━━━━━━━━━━━━━━\u001b[0m\u001b[37m━\u001b[0m \u001b[1m0s\u001b[0m 16ms/step - accuracy: 0.0031 - loss: 7.3683\n",
            "Epoch 7: loss improved from 7.41390 to 7.37306, saving model to /content/ROTC_chatbot_model_checkpoint.keras\n",
            "\u001b[1m45/45\u001b[0m \u001b[32m━━━━━━━━━━━━━━━━━━━━\u001b[0m\u001b[37m\u001b[0m \u001b[1m1s\u001b[0m 22ms/step - accuracy: 0.0030 - loss: 7.3686 - val_accuracy: 0.0000e+00 - val_loss: 8.8808\n",
            "Epoch 8/100\n",
            "\u001b[1m44/45\u001b[0m \u001b[32m━━━━━━━━━━━━━━━━━━━\u001b[0m\u001b[37m━\u001b[0m \u001b[1m0s\u001b[0m 23ms/step - accuracy: 8.4701e-04 - loss: 7.3366\n",
            "Epoch 8: loss improved from 7.37306 to 7.35050, saving model to /content/ROTC_chatbot_model_checkpoint.keras\n",
            "\u001b[1m45/45\u001b[0m \u001b[32m━━━━━━━━━━━━━━━━━━━━\u001b[0m\u001b[37m\u001b[0m \u001b[1m2s\u001b[0m 28ms/step - accuracy: 8.4055e-04 - loss: 7.3372 - val_accuracy: 0.0000e+00 - val_loss: 9.1536\n",
            "Epoch 9/100\n",
            "\u001b[1m45/45\u001b[0m \u001b[32m━━━━━━━━━━━━━━━━━━━━\u001b[0m\u001b[37m\u001b[0m \u001b[1m0s\u001b[0m 15ms/step - accuracy: 0.0014 - loss: 7.3192\n",
            "Epoch 9: loss improved from 7.35050 to 7.33520, saving model to /content/ROTC_chatbot_model_checkpoint.keras\n",
            "\u001b[1m45/45\u001b[0m \u001b[32m━━━━━━━━━━━━━━━━━━━━\u001b[0m\u001b[37m\u001b[0m \u001b[1m2s\u001b[0m 18ms/step - accuracy: 0.0013 - loss: 7.3196 - val_accuracy: 0.0000e+00 - val_loss: 9.2796\n",
            "Epoch 10/100\n",
            "\u001b[1m44/45\u001b[0m \u001b[32m━━━━━━━━━━━━━━━━━━━\u001b[0m\u001b[37m━\u001b[0m \u001b[1m0s\u001b[0m 13ms/step - accuracy: 0.0000e+00 - loss: 7.3217\n",
            "Epoch 10: loss improved from 7.33520 to 7.32110, saving model to /content/ROTC_chatbot_model_checkpoint.keras\n",
            "\u001b[1m45/45\u001b[0m \u001b[32m━━━━━━━━━━━━━━━━━━━━\u001b[0m\u001b[37m\u001b[0m \u001b[1m1s\u001b[0m 16ms/step - accuracy: 0.0000e+00 - loss: 7.3217 - val_accuracy: 0.0000e+00 - val_loss: 9.6634\n",
            "Epoch 11/100\n",
            "\u001b[1m44/45\u001b[0m \u001b[32m━━━━━━━━━━━━━━━━━━━\u001b[0m\u001b[37m━\u001b[0m \u001b[1m0s\u001b[0m 14ms/step - accuracy: 0.0015 - loss: 7.2949\n",
            "Epoch 11: loss improved from 7.32110 to 7.30206, saving model to /content/ROTC_chatbot_model_checkpoint.keras\n",
            "\u001b[1m45/45\u001b[0m \u001b[32m━━━━━━━━━━━━━━━━━━━━\u001b[0m\u001b[37m\u001b[0m \u001b[1m1s\u001b[0m 18ms/step - accuracy: 0.0014 - loss: 7.2952 - val_accuracy: 0.0000e+00 - val_loss: 9.8609\n",
            "Epoch 12/100\n",
            "\u001b[1m43/45\u001b[0m \u001b[32m━━━━━━━━━━━━━━━━━━━\u001b[0m\u001b[37m━\u001b[0m \u001b[1m0s\u001b[0m 13ms/step - accuracy: 0.0036 - loss: 7.2280\n",
            "Epoch 12: loss improved from 7.30206 to 7.22643, saving model to /content/ROTC_chatbot_model_checkpoint.keras\n",
            "\u001b[1m45/45\u001b[0m \u001b[32m━━━━━━━━━━━━━━━━━━━━\u001b[0m\u001b[37m\u001b[0m \u001b[1m1s\u001b[0m 16ms/step - accuracy: 0.0035 - loss: 7.2279 - val_accuracy: 0.0000e+00 - val_loss: 10.2813\n",
            "Epoch 13/100\n",
            "\u001b[1m45/45\u001b[0m \u001b[32m━━━━━━━━━━━━━━━━━━━━\u001b[0m\u001b[37m\u001b[0m \u001b[1m0s\u001b[0m 13ms/step - accuracy: 0.0014 - loss: 7.0901\n",
            "Epoch 13: loss improved from 7.22643 to 7.09531, saving model to /content/ROTC_chatbot_model_checkpoint.keras\n",
            "\u001b[1m45/45\u001b[0m \u001b[32m━━━━━━━━━━━━━━━━━━━━\u001b[0m\u001b[37m\u001b[0m \u001b[1m1s\u001b[0m 16ms/step - accuracy: 0.0013 - loss: 7.0903 - val_accuracy: 0.0000e+00 - val_loss: 10.9024\n",
            "Epoch 14/100\n",
            "\u001b[1m44/45\u001b[0m \u001b[32m━━━━━━━━━━━━━━━━━━━\u001b[0m\u001b[37m━\u001b[0m \u001b[1m0s\u001b[0m 14ms/step - accuracy: 0.0028 - loss: 6.9616\n",
            "Epoch 14: loss improved from 7.09531 to 6.98933, saving model to /content/ROTC_chatbot_model_checkpoint.keras\n",
            "\u001b[1m45/45\u001b[0m \u001b[32m━━━━━━━━━━━━━━━━━━━━\u001b[0m\u001b[37m\u001b[0m \u001b[1m1s\u001b[0m 16ms/step - accuracy: 0.0027 - loss: 6.9628 - val_accuracy: 0.0000e+00 - val_loss: 11.3183\n",
            "Epoch 15/100\n",
            "\u001b[1m45/45\u001b[0m \u001b[32m━━━━━━━━━━━━━━━━━━━━\u001b[0m\u001b[37m\u001b[0m \u001b[1m0s\u001b[0m 13ms/step - accuracy: 0.0026 - loss: 6.8406\n",
            "Epoch 15: loss improved from 6.98933 to 6.88370, saving model to /content/ROTC_chatbot_model_checkpoint.keras\n",
            "\u001b[1m45/45\u001b[0m \u001b[32m━━━━━━━━━━━━━━━━━━━━\u001b[0m\u001b[37m\u001b[0m \u001b[1m1s\u001b[0m 16ms/step - accuracy: 0.0025 - loss: 6.8416 - val_accuracy: 0.0000e+00 - val_loss: 11.8963\n",
            "Epoch 16/100\n",
            "\u001b[1m45/45\u001b[0m \u001b[32m━━━━━━━━━━━━━━━━━━━━\u001b[0m\u001b[37m\u001b[0m \u001b[1m0s\u001b[0m 14ms/step - accuracy: 0.0019 - loss: 6.7945\n",
            "Epoch 16: loss improved from 6.88370 to 6.78195, saving model to /content/ROTC_chatbot_model_checkpoint.keras\n",
            "\u001b[1m45/45\u001b[0m \u001b[32m━━━━━━━━━━━━━━━━━━━━\u001b[0m\u001b[37m\u001b[0m \u001b[1m1s\u001b[0m 16ms/step - accuracy: 0.0019 - loss: 6.7942 - val_accuracy: 0.0000e+00 - val_loss: 12.5943\n",
            "Epoch 17/100\n",
            "\u001b[1m43/45\u001b[0m \u001b[32m━━━━━━━━━━━━━━━━━━━\u001b[0m\u001b[37m━\u001b[0m \u001b[1m0s\u001b[0m 14ms/step - accuracy: 0.0033 - loss: 6.6214\n",
            "Epoch 17: loss improved from 6.78195 to 6.68068, saving model to /content/ROTC_chatbot_model_checkpoint.keras\n",
            "\u001b[1m45/45\u001b[0m \u001b[32m━━━━━━━━━━━━━━━━━━━━\u001b[0m\u001b[37m\u001b[0m \u001b[1m1s\u001b[0m 17ms/step - accuracy: 0.0032 - loss: 6.6252 - val_accuracy: 0.0000e+00 - val_loss: 13.3100\n",
            "Epoch 18/100\n",
            "\u001b[1m43/45\u001b[0m \u001b[32m━━━━━━━━━━━━━━━━━━━\u001b[0m\u001b[37m━\u001b[0m \u001b[1m0s\u001b[0m 21ms/step - accuracy: 0.0051 - loss: 6.5648\n",
            "Epoch 18: loss improved from 6.68068 to 6.59172, saving model to /content/ROTC_chatbot_model_checkpoint.keras\n",
            "\u001b[1m45/45\u001b[0m \u001b[32m━━━━━━━━━━━━━━━━━━━━\u001b[0m\u001b[37m\u001b[0m \u001b[1m2s\u001b[0m 25ms/step - accuracy: 0.0049 - loss: 6.5665 - val_accuracy: 0.0000e+00 - val_loss: 14.0808\n",
            "Epoch 19/100\n",
            "\u001b[1m44/45\u001b[0m \u001b[32m━━━━━━━━━━━━━━━━━━━\u001b[0m\u001b[37m━\u001b[0m \u001b[1m0s\u001b[0m 23ms/step - accuracy: 0.0015 - loss: 6.4649\n",
            "Epoch 19: loss improved from 6.59172 to 6.49460, saving model to /content/ROTC_chatbot_model_checkpoint.keras\n",
            "\u001b[1m45/45\u001b[0m \u001b[32m━━━━━━━━━━━━━━━━━━━━\u001b[0m\u001b[37m\u001b[0m \u001b[1m1s\u001b[0m 27ms/step - accuracy: 0.0015 - loss: 6.4662 - val_accuracy: 0.0000e+00 - val_loss: 15.1449\n",
            "Epoch 20/100\n",
            "\u001b[1m44/45\u001b[0m \u001b[32m━━━━━━━━━━━━━━━━━━━\u001b[0m\u001b[37m━\u001b[0m \u001b[1m0s\u001b[0m 24ms/step - accuracy: 0.0000e+00 - loss: 6.3352\n",
            "Epoch 20: loss improved from 6.49460 to 6.38932, saving model to /content/ROTC_chatbot_model_checkpoint.keras\n",
            "\u001b[1m45/45\u001b[0m \u001b[32m━━━━━━━━━━━━━━━━━━━━\u001b[0m\u001b[37m\u001b[0m \u001b[1m1s\u001b[0m 29ms/step - accuracy: 0.0000e+00 - loss: 6.3375 - val_accuracy: 0.0000e+00 - val_loss: 16.2708\n",
            "Epoch 21/100\n",
            "\u001b[1m43/45\u001b[0m \u001b[32m━━━━━━━━━━━━━━━━━━━\u001b[0m\u001b[37m━\u001b[0m \u001b[1m0s\u001b[0m 14ms/step - accuracy: 2.8223e-04 - loss: 6.2439\n",
            "Epoch 21: loss improved from 6.38932 to 6.28288, saving model to /content/ROTC_chatbot_model_checkpoint.keras\n",
            "\u001b[1m45/45\u001b[0m \u001b[32m━━━━━━━━━━━━━━━━━━━━\u001b[0m\u001b[37m\u001b[0m \u001b[1m1s\u001b[0m 17ms/step - accuracy: 3.0962e-04 - loss: 6.2465 - val_accuracy: 0.0000e+00 - val_loss: 17.4297\n",
            "Epoch 22/100\n",
            "\u001b[1m43/45\u001b[0m \u001b[32m━━━━━━━━━━━━━━━━━━━\u001b[0m\u001b[37m━\u001b[0m \u001b[1m0s\u001b[0m 14ms/step - accuracy: 0.0037 - loss: 6.1287\n",
            "Epoch 22: loss improved from 6.28288 to 6.16079, saving model to /content/ROTC_chatbot_model_checkpoint.keras\n",
            "\u001b[1m45/45\u001b[0m \u001b[32m━━━━━━━━━━━━━━━━━━━━\u001b[0m\u001b[37m\u001b[0m \u001b[1m1s\u001b[0m 17ms/step - accuracy: 0.0036 - loss: 6.1307 - val_accuracy: 0.0000e+00 - val_loss: 18.2630\n",
            "Epoch 23/100\n",
            "\u001b[1m43/45\u001b[0m \u001b[32m━━━━━━━━━━━━━━━━━━━\u001b[0m\u001b[37m━\u001b[0m \u001b[1m0s\u001b[0m 13ms/step - accuracy: 0.0018 - loss: 6.0103\n",
            "Epoch 23: loss improved from 6.16079 to 6.06422, saving model to /content/ROTC_chatbot_model_checkpoint.keras\n",
            "\u001b[1m45/45\u001b[0m \u001b[32m━━━━━━━━━━━━━━━━━━━━\u001b[0m\u001b[37m\u001b[0m \u001b[1m1s\u001b[0m 16ms/step - accuracy: 0.0017 - loss: 6.0138 - val_accuracy: 0.0000e+00 - val_loss: 18.7933\n",
            "Epoch 24/100\n",
            "\u001b[1m43/45\u001b[0m \u001b[32m━━━━━━━━━━━━━━━━━━━\u001b[0m\u001b[37m━\u001b[0m \u001b[1m0s\u001b[0m 14ms/step - accuracy: 0.0042 - loss: 5.9018\n",
            "Epoch 24: loss improved from 6.06422 to 5.97783, saving model to /content/ROTC_chatbot_model_checkpoint.keras\n",
            "\u001b[1m45/45\u001b[0m \u001b[32m━━━━━━━━━━━━━━━━━━━━\u001b[0m\u001b[37m\u001b[0m \u001b[1m1s\u001b[0m 17ms/step - accuracy: 0.0040 - loss: 5.9066 - val_accuracy: 0.0000e+00 - val_loss: 19.2226\n",
            "Epoch 25/100\n",
            "\u001b[1m42/45\u001b[0m \u001b[32m━━━━━━━━━━━━━━━━━━\u001b[0m\u001b[37m━━\u001b[0m \u001b[1m0s\u001b[0m 13ms/step - accuracy: 0.0046 - loss: 5.7974\n",
            "Epoch 25: loss improved from 5.97783 to 5.88127, saving model to /content/ROTC_chatbot_model_checkpoint.keras\n",
            "\u001b[1m45/45\u001b[0m \u001b[32m━━━━━━━━━━━━━━━━━━━━\u001b[0m\u001b[37m\u001b[0m \u001b[1m1s\u001b[0m 16ms/step - accuracy: 0.0044 - loss: 5.8045 - val_accuracy: 0.0000e+00 - val_loss: 19.6917\n",
            "Epoch 26/100\n",
            "\u001b[1m43/45\u001b[0m \u001b[32m━━━━━━━━━━━━━━━━━━━\u001b[0m\u001b[37m━\u001b[0m \u001b[1m0s\u001b[0m 14ms/step - accuracy: 5.1930e-05 - loss: 5.7528\n",
            "Epoch 26: loss improved from 5.88127 to 5.80718, saving model to /content/ROTC_chatbot_model_checkpoint.keras\n",
            "\u001b[1m45/45\u001b[0m \u001b[32m━━━━━━━━━━━━━━━━━━━━\u001b[0m\u001b[37m\u001b[0m \u001b[1m1s\u001b[0m 17ms/step - accuracy: 9.4345e-05 - loss: 5.7563 - val_accuracy: 0.0000e+00 - val_loss: 20.0822\n",
            "Epoch 27/100\n",
            "\u001b[1m42/45\u001b[0m \u001b[32m━━━━━━━━━━━━━━━━━━\u001b[0m\u001b[37m━━\u001b[0m \u001b[1m0s\u001b[0m 14ms/step - accuracy: 0.0057 - loss: 5.6630\n",
            "Epoch 27: loss improved from 5.80718 to 5.74217, saving model to /content/ROTC_chatbot_model_checkpoint.keras\n",
            "\u001b[1m45/45\u001b[0m \u001b[32m━━━━━━━━━━━━━━━━━━━━\u001b[0m\u001b[37m\u001b[0m \u001b[1m1s\u001b[0m 17ms/step - accuracy: 0.0055 - loss: 5.6697 - val_accuracy: 0.0000e+00 - val_loss: 20.6219\n",
            "Epoch 28/100\n",
            "\u001b[1m44/45\u001b[0m \u001b[32m━━━━━━━━━━━━━━━━━━━\u001b[0m\u001b[37m━\u001b[0m \u001b[1m0s\u001b[0m 13ms/step - accuracy: 0.0087 - loss: 5.5899\n",
            "Epoch 28: loss improved from 5.74217 to 5.66884, saving model to /content/ROTC_chatbot_model_checkpoint.keras\n",
            "\u001b[1m45/45\u001b[0m \u001b[32m━━━━━━━━━━━━━━━━━━━━\u001b[0m\u001b[37m\u001b[0m \u001b[1m1s\u001b[0m 17ms/step - accuracy: 0.0084 - loss: 5.5933 - val_accuracy: 0.0000e+00 - val_loss: 21.0369\n",
            "Epoch 29/100\n",
            "\u001b[1m45/45\u001b[0m \u001b[32m━━━━━━━━━━━━━━━━━━━━\u001b[0m\u001b[37m\u001b[0m \u001b[1m0s\u001b[0m 13ms/step - accuracy: 0.0050 - loss: 5.5177\n",
            "Epoch 29: loss improved from 5.66884 to 5.57256, saving model to /content/ROTC_chatbot_model_checkpoint.keras\n",
            "\u001b[1m45/45\u001b[0m \u001b[32m━━━━━━━━━━━━━━━━━━━━\u001b[0m\u001b[37m\u001b[0m \u001b[1m1s\u001b[0m 16ms/step - accuracy: 0.0049 - loss: 5.5189 - val_accuracy: 0.0000e+00 - val_loss: 21.2923\n",
            "Epoch 30/100\n",
            "\u001b[1m45/45\u001b[0m \u001b[32m━━━━━━━━━━━━━━━━━━━━\u001b[0m\u001b[37m\u001b[0m \u001b[1m0s\u001b[0m 22ms/step - accuracy: 0.0076 - loss: 5.4076\n",
            "Epoch 30: loss improved from 5.57256 to 5.48793, saving model to /content/ROTC_chatbot_model_checkpoint.keras\n",
            "\u001b[1m45/45\u001b[0m \u001b[32m━━━━━━━━━━━━━━━━━━━━\u001b[0m\u001b[37m\u001b[0m \u001b[1m2s\u001b[0m 28ms/step - accuracy: 0.0075 - loss: 5.4094 - val_accuracy: 0.0000e+00 - val_loss: 21.8921\n",
            "Epoch 31/100\n",
            "\u001b[1m45/45\u001b[0m \u001b[32m━━━━━━━━━━━━━━━━━━━━\u001b[0m\u001b[37m\u001b[0m \u001b[1m0s\u001b[0m 23ms/step - accuracy: 0.0128 - loss: 5.2858\n",
            "Epoch 31: loss improved from 5.48793 to 5.40459, saving model to /content/ROTC_chatbot_model_checkpoint.keras\n",
            "\u001b[1m45/45\u001b[0m \u001b[32m━━━━━━━━━━━━━━━━━━━━\u001b[0m\u001b[37m\u001b[0m \u001b[1m1s\u001b[0m 29ms/step - accuracy: 0.0127 - loss: 5.2884 - val_accuracy: 0.0000e+00 - val_loss: 22.2566\n",
            "Epoch 32/100\n",
            "\u001b[1m45/45\u001b[0m \u001b[32m━━━━━━━━━━━━━━━━━━━━\u001b[0m\u001b[37m\u001b[0m \u001b[1m0s\u001b[0m 22ms/step - accuracy: 0.0040 - loss: 5.2521\n",
            "Epoch 32: loss improved from 5.40459 to 5.35860, saving model to /content/ROTC_chatbot_model_checkpoint.keras\n",
            "\u001b[1m45/45\u001b[0m \u001b[32m━━━━━━━━━━━━━━━━━━━━\u001b[0m\u001b[37m\u001b[0m \u001b[1m1s\u001b[0m 28ms/step - accuracy: 0.0040 - loss: 5.2544 - val_accuracy: 0.0000e+00 - val_loss: 22.7275\n",
            "Epoch 33/100\n",
            "\u001b[1m45/45\u001b[0m \u001b[32m━━━━━━━━━━━━━━━━━━━━\u001b[0m\u001b[37m\u001b[0m \u001b[1m0s\u001b[0m 13ms/step - accuracy: 0.0125 - loss: 5.2190\n",
            "Epoch 33: loss improved from 5.35860 to 5.31674, saving model to /content/ROTC_chatbot_model_checkpoint.keras\n",
            "\u001b[1m45/45\u001b[0m \u001b[32m━━━━━━━━━━━━━━━━━━━━\u001b[0m\u001b[37m\u001b[0m \u001b[1m2s\u001b[0m 18ms/step - accuracy: 0.0124 - loss: 5.2212 - val_accuracy: 0.0000e+00 - val_loss: 23.0957\n",
            "Epoch 34/100\n",
            "\u001b[1m43/45\u001b[0m \u001b[32m━━━━━━━━━━━━━━━━━━━\u001b[0m\u001b[37m━\u001b[0m \u001b[1m0s\u001b[0m 14ms/step - accuracy: 0.0141 - loss: 5.1731\n",
            "Epoch 34: loss improved from 5.31674 to 5.26028, saving model to /content/ROTC_chatbot_model_checkpoint.keras\n",
            "\u001b[1m45/45\u001b[0m \u001b[32m━━━━━━━━━━━━━━━━━━━━\u001b[0m\u001b[37m\u001b[0m \u001b[1m1s\u001b[0m 17ms/step - accuracy: 0.0136 - loss: 5.1787 - val_accuracy: 0.0000e+00 - val_loss: 23.3563\n",
            "Epoch 35/100\n",
            "\u001b[1m44/45\u001b[0m \u001b[32m━━━━━━━━━━━━━━━━━━━\u001b[0m\u001b[37m━\u001b[0m \u001b[1m0s\u001b[0m 14ms/step - accuracy: 0.0052 - loss: 5.1236\n",
            "Epoch 35: loss improved from 5.26028 to 5.21787, saving model to /content/ROTC_chatbot_model_checkpoint.keras\n",
            "\u001b[1m45/45\u001b[0m \u001b[32m━━━━━━━━━━━━━━━━━━━━\u001b[0m\u001b[37m\u001b[0m \u001b[1m1s\u001b[0m 17ms/step - accuracy: 0.0050 - loss: 5.1277 - val_accuracy: 0.0000e+00 - val_loss: 23.7928\n",
            "Epoch 36/100\n",
            "\u001b[1m42/45\u001b[0m \u001b[32m━━━━━━━━━━━━━━━━━━\u001b[0m\u001b[37m━━\u001b[0m \u001b[1m0s\u001b[0m 14ms/step - accuracy: 0.0207 - loss: 5.0473\n",
            "Epoch 36: loss improved from 5.21787 to 5.19632, saving model to /content/ROTC_chatbot_model_checkpoint.keras\n",
            "\u001b[1m45/45\u001b[0m \u001b[32m━━━━━━━━━━━━━━━━━━━━\u001b[0m\u001b[37m\u001b[0m \u001b[1m1s\u001b[0m 17ms/step - accuracy: 0.0195 - loss: 5.0600 - val_accuracy: 0.0000e+00 - val_loss: 24.0396\n",
            "Epoch 37/100\n",
            "\u001b[1m42/45\u001b[0m \u001b[32m━━━━━━━━━━━━━━━━━━\u001b[0m\u001b[37m━━\u001b[0m \u001b[1m0s\u001b[0m 14ms/step - accuracy: 0.0092 - loss: 5.0843\n",
            "Epoch 37: loss improved from 5.19632 to 5.16457, saving model to /content/ROTC_chatbot_model_checkpoint.keras\n",
            "\u001b[1m45/45\u001b[0m \u001b[32m━━━━━━━━━━━━━━━━━━━━\u001b[0m\u001b[37m\u001b[0m \u001b[1m1s\u001b[0m 17ms/step - accuracy: 0.0087 - loss: 5.0911 - val_accuracy: 0.0000e+00 - val_loss: 24.4780\n",
            "Epoch 38/100\n",
            "\u001b[1m44/45\u001b[0m \u001b[32m━━━━━━━━━━━━━━━━━━━\u001b[0m\u001b[37m━\u001b[0m \u001b[1m0s\u001b[0m 14ms/step - accuracy: 0.0124 - loss: 5.0006\n",
            "Epoch 38: loss improved from 5.16457 to 5.09889, saving model to /content/ROTC_chatbot_model_checkpoint.keras\n",
            "\u001b[1m45/45\u001b[0m \u001b[32m━━━━━━━━━━━━━━━━━━━━\u001b[0m\u001b[37m\u001b[0m \u001b[1m1s\u001b[0m 17ms/step - accuracy: 0.0122 - loss: 5.0049 - val_accuracy: 0.0000e+00 - val_loss: 24.5495\n",
            "Epoch 39/100\n",
            "\u001b[1m44/45\u001b[0m \u001b[32m━━━━━━━━━━━━━━━━━━━\u001b[0m\u001b[37m━\u001b[0m \u001b[1m0s\u001b[0m 14ms/step - accuracy: 0.0116 - loss: 4.9656\n",
            "Epoch 39: loss improved from 5.09889 to 5.06104, saving model to /content/ROTC_chatbot_model_checkpoint.keras\n",
            "\u001b[1m45/45\u001b[0m \u001b[32m━━━━━━━━━━━━━━━━━━━━\u001b[0m\u001b[37m\u001b[0m \u001b[1m1s\u001b[0m 17ms/step - accuracy: 0.0114 - loss: 4.9698 - val_accuracy: 0.0000e+00 - val_loss: 24.7773\n",
            "Epoch 40/100\n",
            "\u001b[1m45/45\u001b[0m \u001b[32m━━━━━━━━━━━━━━━━━━━━\u001b[0m\u001b[37m\u001b[0m \u001b[1m0s\u001b[0m 13ms/step - accuracy: 0.0187 - loss: 4.9036\n",
            "Epoch 40: loss improved from 5.06104 to 5.02116, saving model to /content/ROTC_chatbot_model_checkpoint.keras\n",
            "\u001b[1m45/45\u001b[0m \u001b[32m━━━━━━━━━━━━━━━━━━━━\u001b[0m\u001b[37m\u001b[0m \u001b[1m1s\u001b[0m 16ms/step - accuracy: 0.0185 - loss: 4.9062 - val_accuracy: 0.0000e+00 - val_loss: 25.1851\n",
            "Epoch 41/100\n",
            "\u001b[1m44/45\u001b[0m \u001b[32m━━━━━━━━━━━━━━━━━━━\u001b[0m\u001b[37m━\u001b[0m \u001b[1m0s\u001b[0m 13ms/step - accuracy: 0.0135 - loss: 4.8744\n",
            "Epoch 41: loss improved from 5.02116 to 4.98676, saving model to /content/ROTC_chatbot_model_checkpoint.keras\n",
            "\u001b[1m45/45\u001b[0m \u001b[32m━━━━━━━━━━━━━━━━━━━━\u001b[0m\u001b[37m\u001b[0m \u001b[1m1s\u001b[0m 18ms/step - accuracy: 0.0131 - loss: 4.8793 - val_accuracy: 0.0000e+00 - val_loss: 25.5447\n",
            "Epoch 42/100\n",
            "\u001b[1m44/45\u001b[0m \u001b[32m━━━━━━━━━━━━━━━━━━━\u001b[0m\u001b[37m━\u001b[0m \u001b[1m0s\u001b[0m 28ms/step - accuracy: 0.0129 - loss: 4.8411\n",
            "Epoch 42: loss improved from 4.98676 to 4.95343, saving model to /content/ROTC_chatbot_model_checkpoint.keras\n",
            "\u001b[1m45/45\u001b[0m \u001b[32m━━━━━━━━━━━━━━━━━━━━\u001b[0m\u001b[37m\u001b[0m \u001b[1m2s\u001b[0m 35ms/step - accuracy: 0.0126 - loss: 4.8460 - val_accuracy: 0.0000e+00 - val_loss: 25.9123\n",
            "Epoch 43/100\n",
            "\u001b[1m45/45\u001b[0m \u001b[32m━━━━━━━━━━━━━━━━━━━━\u001b[0m\u001b[37m\u001b[0m \u001b[1m0s\u001b[0m 42ms/step - accuracy: 0.0081 - loss: 4.7918\n",
            "Epoch 43: loss improved from 4.95343 to 4.91221, saving model to /content/ROTC_chatbot_model_checkpoint.keras\n",
            "\u001b[1m45/45\u001b[0m \u001b[32m━━━━━━━━━━━━━━━━━━━━\u001b[0m\u001b[37m\u001b[0m \u001b[1m2s\u001b[0m 50ms/step - accuracy: 0.0080 - loss: 4.7945 - val_accuracy: 0.0000e+00 - val_loss: 26.1618\n",
            "Epoch 44/100\n",
            "\u001b[1m44/45\u001b[0m \u001b[32m━━━━━━━━━━━━━━━━━━━\u001b[0m\u001b[37m━\u001b[0m \u001b[1m0s\u001b[0m 37ms/step - accuracy: 0.0111 - loss: 4.8167\n",
            "Epoch 44: loss improved from 4.91221 to 4.87957, saving model to /content/ROTC_chatbot_model_checkpoint.keras\n",
            "\u001b[1m45/45\u001b[0m \u001b[32m━━━━━━━━━━━━━━━━━━━━\u001b[0m\u001b[37m\u001b[0m \u001b[1m3s\u001b[0m 49ms/step - accuracy: 0.0109 - loss: 4.8194 - val_accuracy: 0.0000e+00 - val_loss: 26.4299\n",
            "Epoch 45/100\n",
            "\u001b[1m42/45\u001b[0m \u001b[32m━━━━━━━━━━━━━━━━━━\u001b[0m\u001b[37m━━\u001b[0m \u001b[1m0s\u001b[0m 30ms/step - accuracy: 0.0251 - loss: 4.7314\n",
            "Epoch 45: loss improved from 4.87957 to 4.85286, saving model to /content/ROTC_chatbot_model_checkpoint.keras\n",
            "\u001b[1m45/45\u001b[0m \u001b[32m━━━━━━━━━━━━━━━━━━━━\u001b[0m\u001b[37m\u001b[0m \u001b[1m1s\u001b[0m 32ms/step - accuracy: 0.0238 - loss: 4.7418 - val_accuracy: 0.0000e+00 - val_loss: 26.7284\n",
            "Epoch 46/100\n",
            "\u001b[1m45/45\u001b[0m \u001b[32m━━━━━━━━━━━━━━━━━━━━\u001b[0m\u001b[37m\u001b[0m \u001b[1m0s\u001b[0m 24ms/step - accuracy: 0.0136 - loss: 4.7250\n",
            "Epoch 46: loss improved from 4.85286 to 4.84403, saving model to /content/ROTC_chatbot_model_checkpoint.keras\n",
            "\u001b[1m45/45\u001b[0m \u001b[32m━━━━━━━━━━━━━━━━━━━━\u001b[0m\u001b[37m\u001b[0m \u001b[1m2s\u001b[0m 27ms/step - accuracy: 0.0134 - loss: 4.7276 - val_accuracy: 0.0000e+00 - val_loss: 27.0081\n",
            "Epoch 47/100\n",
            "\u001b[1m45/45\u001b[0m \u001b[32m━━━━━━━━━━━━━━━━━━━━\u001b[0m\u001b[37m\u001b[0m \u001b[1m0s\u001b[0m 13ms/step - accuracy: 0.0231 - loss: 4.7449\n",
            "Epoch 47: loss improved from 4.84403 to 4.83528, saving model to /content/ROTC_chatbot_model_checkpoint.keras\n",
            "\u001b[1m45/45\u001b[0m \u001b[32m━━━━━━━━━━━━━━━━━━━━\u001b[0m\u001b[37m\u001b[0m \u001b[1m1s\u001b[0m 16ms/step - accuracy: 0.0228 - loss: 4.7469 - val_accuracy: 0.0000e+00 - val_loss: 27.3205\n",
            "Epoch 48/100\n",
            "\u001b[1m43/45\u001b[0m \u001b[32m━━━━━━━━━━━━━━━━━━━\u001b[0m\u001b[37m━\u001b[0m \u001b[1m0s\u001b[0m 14ms/step - accuracy: 0.0181 - loss: 4.6879\n",
            "Epoch 48: loss improved from 4.83528 to 4.81745, saving model to /content/ROTC_chatbot_model_checkpoint.keras\n",
            "\u001b[1m45/45\u001b[0m \u001b[32m━━━━━━━━━━━━━━━━━━━━\u001b[0m\u001b[37m\u001b[0m \u001b[1m1s\u001b[0m 18ms/step - accuracy: 0.0175 - loss: 4.6963 - val_accuracy: 0.0000e+00 - val_loss: 27.4955\n",
            "Epoch 49/100\n",
            "\u001b[1m45/45\u001b[0m \u001b[32m━━━━━━━━━━━━━━━━━━━━\u001b[0m\u001b[37m\u001b[0m \u001b[1m0s\u001b[0m 14ms/step - accuracy: 0.0227 - loss: 4.6732\n",
            "Epoch 49: loss improved from 4.81745 to 4.77794, saving model to /content/ROTC_chatbot_model_checkpoint.keras\n",
            "\u001b[1m45/45\u001b[0m \u001b[32m━━━━━━━━━━━━━━━━━━━━\u001b[0m\u001b[37m\u001b[0m \u001b[1m1s\u001b[0m 17ms/step - accuracy: 0.0224 - loss: 4.6755 - val_accuracy: 0.0000e+00 - val_loss: 27.5504\n",
            "Epoch 50/100\n",
            "\u001b[1m44/45\u001b[0m \u001b[32m━━━━━━━━━━━━━━━━━━━\u001b[0m\u001b[37m━\u001b[0m \u001b[1m0s\u001b[0m 36ms/step - accuracy: 0.0199 - loss: 4.6335\n",
            "Epoch 50: loss improved from 4.77794 to 4.76381, saving model to /content/ROTC_chatbot_model_checkpoint.keras\n",
            "\u001b[1m45/45\u001b[0m \u001b[32m━━━━━━━━━━━━━━━━━━━━\u001b[0m\u001b[37m\u001b[0m \u001b[1m2s\u001b[0m 41ms/step - accuracy: 0.0193 - loss: 4.6392 - val_accuracy: 0.0000e+00 - val_loss: 27.7744\n",
            "Epoch 51/100\n",
            "\u001b[1m44/45\u001b[0m \u001b[32m━━━━━━━━━━━━━━━━━━━\u001b[0m\u001b[37m━\u001b[0m \u001b[1m0s\u001b[0m 23ms/step - accuracy: 0.0119 - loss: 4.6536\n",
            "Epoch 51: loss improved from 4.76381 to 4.74894, saving model to /content/ROTC_chatbot_model_checkpoint.keras\n",
            "\u001b[1m45/45\u001b[0m \u001b[32m━━━━━━━━━━━━━━━━━━━━\u001b[0m\u001b[37m\u001b[0m \u001b[1m2s\u001b[0m 29ms/step - accuracy: 0.0117 - loss: 4.6578 - val_accuracy: 0.0000e+00 - val_loss: 28.0218\n",
            "Epoch 52/100\n",
            "\u001b[1m43/45\u001b[0m \u001b[32m━━━━━━━━━━━━━━━━━━━\u001b[0m\u001b[37m━\u001b[0m \u001b[1m0s\u001b[0m 22ms/step - accuracy: 0.0196 - loss: 4.5991\n",
            "Epoch 52: loss improved from 4.74894 to 4.73154, saving model to /content/ROTC_chatbot_model_checkpoint.keras\n",
            "\u001b[1m45/45\u001b[0m \u001b[32m━━━━━━━━━━━━━━━━━━━━\u001b[0m\u001b[37m\u001b[0m \u001b[1m1s\u001b[0m 24ms/step - accuracy: 0.0189 - loss: 4.6076 - val_accuracy: 0.0000e+00 - val_loss: 28.2027\n",
            "Epoch 53/100\n",
            "\u001b[1m42/45\u001b[0m \u001b[32m━━━━━━━━━━━━━━━━━━\u001b[0m\u001b[37m━━\u001b[0m \u001b[1m0s\u001b[0m 15ms/step - accuracy: 0.0202 - loss: 4.5822\n",
            "Epoch 53: loss improved from 4.73154 to 4.71263, saving model to /content/ROTC_chatbot_model_checkpoint.keras\n",
            "\u001b[1m45/45\u001b[0m \u001b[32m━━━━━━━━━━━━━━━━━━━━\u001b[0m\u001b[37m\u001b[0m \u001b[1m1s\u001b[0m 17ms/step - accuracy: 0.0193 - loss: 4.5931 - val_accuracy: 0.0000e+00 - val_loss: 28.3495\n",
            "Epoch 54/100\n",
            "\u001b[1m43/45\u001b[0m \u001b[32m━━━━━━━━━━━━━━━━━━━\u001b[0m\u001b[37m━\u001b[0m \u001b[1m0s\u001b[0m 14ms/step - accuracy: 0.0326 - loss: 4.6092\n",
            "Epoch 54: loss improved from 4.71263 to 4.68536, saving model to /content/ROTC_chatbot_model_checkpoint.keras\n",
            "\u001b[1m45/45\u001b[0m \u001b[32m━━━━━━━━━━━━━━━━━━━━\u001b[0m\u001b[37m\u001b[0m \u001b[1m1s\u001b[0m 17ms/step - accuracy: 0.0314 - loss: 4.6142 - val_accuracy: 0.0000e+00 - val_loss: 28.4960\n",
            "Epoch 55/100\n",
            "\u001b[1m42/45\u001b[0m \u001b[32m━━━━━━━━━━━━━━━━━━\u001b[0m\u001b[37m━━\u001b[0m \u001b[1m0s\u001b[0m 16ms/step - accuracy: 0.0168 - loss: 4.5099\n",
            "Epoch 55: loss improved from 4.68536 to 4.66068, saving model to /content/ROTC_chatbot_model_checkpoint.keras\n",
            "\u001b[1m45/45\u001b[0m \u001b[32m━━━━━━━━━━━━━━━━━━━━\u001b[0m\u001b[37m\u001b[0m \u001b[1m1s\u001b[0m 21ms/step - accuracy: 0.0161 - loss: 4.5228 - val_accuracy: 0.0000e+00 - val_loss: 28.7983\n",
            "Epoch 56/100\n",
            "\u001b[1m44/45\u001b[0m \u001b[32m━━━━━━━━━━━━━━━━━━━\u001b[0m\u001b[37m━\u001b[0m \u001b[1m0s\u001b[0m 26ms/step - accuracy: 0.0184 - loss: 4.5373\n",
            "Epoch 56: loss improved from 4.66068 to 4.64260, saving model to /content/ROTC_chatbot_model_checkpoint.keras\n",
            "\u001b[1m45/45\u001b[0m \u001b[32m━━━━━━━━━━━━━━━━━━━━\u001b[0m\u001b[37m\u001b[0m \u001b[1m2s\u001b[0m 37ms/step - accuracy: 0.0180 - loss: 4.5419 - val_accuracy: 0.0000e+00 - val_loss: 28.8861\n",
            "Epoch 57/100\n",
            "\u001b[1m43/45\u001b[0m \u001b[32m━━━━━━━━━━━━━━━━━━━\u001b[0m\u001b[37m━\u001b[0m \u001b[1m0s\u001b[0m 15ms/step - accuracy: 0.0192 - loss: 4.4869\n",
            "Epoch 57: loss did not improve from 4.64260\n",
            "\u001b[1m45/45\u001b[0m \u001b[32m━━━━━━━━━━━━━━━━━━━━\u001b[0m\u001b[37m\u001b[0m \u001b[1m1s\u001b[0m 17ms/step - accuracy: 0.0186 - loss: 4.4976 - val_accuracy: 0.0000e+00 - val_loss: 29.1944\n",
            "Epoch 58/100\n",
            "\u001b[1m43/45\u001b[0m \u001b[32m━━━━━━━━━━━━━━━━━━━\u001b[0m\u001b[37m━\u001b[0m \u001b[1m0s\u001b[0m 14ms/step - accuracy: 0.0176 - loss: 4.5218\n",
            "Epoch 58: loss did not improve from 4.64260\n",
            "\u001b[1m45/45\u001b[0m \u001b[32m━━━━━━━━━━━━━━━━━━━━\u001b[0m\u001b[37m\u001b[0m \u001b[1m1s\u001b[0m 16ms/step - accuracy: 0.0172 - loss: 4.5303 - val_accuracy: 0.0000e+00 - val_loss: 29.2166\n",
            "Epoch 59/100\n",
            "\u001b[1m42/45\u001b[0m \u001b[32m━━━━━━━━━━━━━━━━━━\u001b[0m\u001b[37m━━\u001b[0m \u001b[1m0s\u001b[0m 14ms/step - accuracy: 0.0213 - loss: 4.4835\n",
            "Epoch 59: loss did not improve from 4.64260\n",
            "\u001b[1m45/45\u001b[0m \u001b[32m━━━━━━━━━━━━━━━━━━━━\u001b[0m\u001b[37m\u001b[0m \u001b[1m1s\u001b[0m 16ms/step - accuracy: 0.0204 - loss: 4.4978 - val_accuracy: 0.0000e+00 - val_loss: 29.4749\n",
            "Epoch 60/100\n",
            "\u001b[1m42/45\u001b[0m \u001b[32m━━━━━━━━━━━━━━━━━━\u001b[0m\u001b[37m━━\u001b[0m \u001b[1m0s\u001b[0m 14ms/step - accuracy: 0.0306 - loss: 4.5282\n",
            "Epoch 60: loss improved from 4.64260 to 4.61972, saving model to /content/ROTC_chatbot_model_checkpoint.keras\n",
            "\u001b[1m45/45\u001b[0m \u001b[32m━━━━━━━━━━━━━━━━━━━━\u001b[0m\u001b[37m\u001b[0m \u001b[1m1s\u001b[0m 17ms/step - accuracy: 0.0294 - loss: 4.5360 - val_accuracy: 0.0000e+00 - val_loss: 29.4144\n",
            "Epoch 61/100\n",
            "\u001b[1m42/45\u001b[0m \u001b[32m━━━━━━━━━━━━━━━━━━\u001b[0m\u001b[37m━━\u001b[0m \u001b[1m0s\u001b[0m 15ms/step - accuracy: 0.0226 - loss: 4.4527\n",
            "Epoch 61: loss improved from 4.61972 to 4.57686, saving model to /content/ROTC_chatbot_model_checkpoint.keras\n",
            "\u001b[1m45/45\u001b[0m \u001b[32m━━━━━━━━━━━━━━━━━━━━\u001b[0m\u001b[37m\u001b[0m \u001b[1m1s\u001b[0m 18ms/step - accuracy: 0.0219 - loss: 4.4633 - val_accuracy: 0.0000e+00 - val_loss: 29.4732\n",
            "Epoch 62/100\n",
            "\u001b[1m45/45\u001b[0m \u001b[32m━━━━━━━━━━━━━━━━━━━━\u001b[0m\u001b[37m\u001b[0m \u001b[1m0s\u001b[0m 18ms/step - accuracy: 0.0392 - loss: 4.4261\n",
            "Epoch 62: loss improved from 4.57686 to 4.54902, saving model to /content/ROTC_chatbot_model_checkpoint.keras\n",
            "\u001b[1m45/45\u001b[0m \u001b[32m━━━━━━━━━━━━━━━━━━━━\u001b[0m\u001b[37m\u001b[0m \u001b[1m2s\u001b[0m 23ms/step - accuracy: 0.0388 - loss: 4.4287 - val_accuracy: 0.0000e+00 - val_loss: 29.6745\n",
            "Epoch 63/100\n",
            "\u001b[1m44/45\u001b[0m \u001b[32m━━━━━━━━━━━━━━━━━━━\u001b[0m\u001b[37m━\u001b[0m \u001b[1m0s\u001b[0m 23ms/step - accuracy: 0.0359 - loss: 4.3758\n",
            "Epoch 63: loss improved from 4.54902 to 4.52360, saving model to /content/ROTC_chatbot_model_checkpoint.keras\n",
            "\u001b[1m45/45\u001b[0m \u001b[32m━━━━━━━━━━━━━━━━━━━━\u001b[0m\u001b[37m\u001b[0m \u001b[1m2s\u001b[0m 31ms/step - accuracy: 0.0351 - loss: 4.3822 - val_accuracy: 0.0000e+00 - val_loss: 29.9571\n",
            "Epoch 64/100\n",
            "\u001b[1m45/45\u001b[0m \u001b[32m━━━━━━━━━━━━━━━━━━━━\u001b[0m\u001b[37m\u001b[0m \u001b[1m0s\u001b[0m 35ms/step - accuracy: 0.0341 - loss: 4.3991\n",
            "Epoch 64: loss improved from 4.52360 to 4.50447, saving model to /content/ROTC_chatbot_model_checkpoint.keras\n",
            "\u001b[1m45/45\u001b[0m \u001b[32m━━━━━━━━━━━━━━━━━━━━\u001b[0m\u001b[37m\u001b[0m \u001b[1m2s\u001b[0m 41ms/step - accuracy: 0.0338 - loss: 4.4014 - val_accuracy: 0.0000e+00 - val_loss: 30.0278\n",
            "Epoch 65/100\n",
            "\u001b[1m41/45\u001b[0m \u001b[32m━━━━━━━━━━━━━━━━━━\u001b[0m\u001b[37m━━\u001b[0m \u001b[1m0s\u001b[0m 20ms/step - accuracy: 0.0405 - loss: 4.3882\n",
            "Epoch 65: loss did not improve from 4.50447\n",
            "\u001b[1m45/45\u001b[0m \u001b[32m━━━━━━━━━━━━━━━━━━━━\u001b[0m\u001b[37m\u001b[0m \u001b[1m1s\u001b[0m 21ms/step - accuracy: 0.0382 - loss: 4.4016 - val_accuracy: 0.0000e+00 - val_loss: 30.0722\n",
            "Epoch 66/100\n",
            "\u001b[1m44/45\u001b[0m \u001b[32m━━━━━━━━━━━━━━━━━━━\u001b[0m\u001b[37m━\u001b[0m \u001b[1m0s\u001b[0m 14ms/step - accuracy: 0.0460 - loss: 4.3529\n",
            "Epoch 66: loss improved from 4.50447 to 4.50224, saving model to /content/ROTC_chatbot_model_checkpoint.keras\n",
            "\u001b[1m45/45\u001b[0m \u001b[32m━━━━━━━━━━━━━━━━━━━━\u001b[0m\u001b[37m\u001b[0m \u001b[1m1s\u001b[0m 17ms/step - accuracy: 0.0450 - loss: 4.3594 - val_accuracy: 0.0000e+00 - val_loss: 30.1450\n",
            "Epoch 67/100\n",
            "\u001b[1m44/45\u001b[0m \u001b[32m━━━━━━━━━━━━━━━━━━━\u001b[0m\u001b[37m━\u001b[0m \u001b[1m0s\u001b[0m 14ms/step - accuracy: 0.0325 - loss: 4.3444\n",
            "Epoch 67: loss improved from 4.50224 to 4.46364, saving model to /content/ROTC_chatbot_model_checkpoint.keras\n",
            "\u001b[1m45/45\u001b[0m \u001b[32m━━━━━━━━━━━━━━━━━━━━\u001b[0m\u001b[37m\u001b[0m \u001b[1m1s\u001b[0m 17ms/step - accuracy: 0.0318 - loss: 4.3496 - val_accuracy: 0.0000e+00 - val_loss: 30.3188\n",
            "Epoch 68/100\n",
            "\u001b[1m43/45\u001b[0m \u001b[32m━━━━━━━━━━━━━━━━━━━\u001b[0m\u001b[37m━\u001b[0m \u001b[1m0s\u001b[0m 14ms/step - accuracy: 0.0374 - loss: 4.3167\n",
            "Epoch 68: loss improved from 4.46364 to 4.45816, saving model to /content/ROTC_chatbot_model_checkpoint.keras\n",
            "\u001b[1m45/45\u001b[0m \u001b[32m━━━━━━━━━━━━━━━━━━━━\u001b[0m\u001b[37m\u001b[0m \u001b[1m1s\u001b[0m 17ms/step - accuracy: 0.0362 - loss: 4.3259 - val_accuracy: 0.0000e+00 - val_loss: 30.5131\n",
            "Epoch 69/100\n",
            "\u001b[1m42/45\u001b[0m \u001b[32m━━━━━━━━━━━━━━━━━━\u001b[0m\u001b[37m━━\u001b[0m \u001b[1m0s\u001b[0m 15ms/step - accuracy: 0.0397 - loss: 4.3244\n",
            "Epoch 69: loss did not improve from 4.45816\n",
            "\u001b[1m45/45\u001b[0m \u001b[32m━━━━━━━━━━━━━━━━━━━━\u001b[0m\u001b[37m\u001b[0m \u001b[1m1s\u001b[0m 17ms/step - accuracy: 0.0380 - loss: 4.3395 - val_accuracy: 0.0000e+00 - val_loss: 30.3444\n",
            "Epoch 70/100\n",
            "\u001b[1m42/45\u001b[0m \u001b[32m━━━━━━━━━━━━━━━━━━\u001b[0m\u001b[37m━━\u001b[0m \u001b[1m0s\u001b[0m 15ms/step - accuracy: 0.0364 - loss: 4.3586\n",
            "Epoch 70: loss did not improve from 4.45816\n",
            "\u001b[1m45/45\u001b[0m \u001b[32m━━━━━━━━━━━━━━━━━━━━\u001b[0m\u001b[37m\u001b[0m \u001b[1m1s\u001b[0m 17ms/step - accuracy: 0.0349 - loss: 4.3688 - val_accuracy: 0.0000e+00 - val_loss: 30.3730\n",
            "Epoch 71/100\n",
            "\u001b[1m45/45\u001b[0m \u001b[32m━━━━━━━━━━━━━━━━━━━━\u001b[0m\u001b[37m\u001b[0m \u001b[1m0s\u001b[0m 13ms/step - accuracy: 0.0252 - loss: 4.3791\n",
            "Epoch 71: loss improved from 4.45816 to 4.45644, saving model to /content/ROTC_chatbot_model_checkpoint.keras\n",
            "\u001b[1m45/45\u001b[0m \u001b[32m━━━━━━━━━━━━━━━━━━━━\u001b[0m\u001b[37m\u001b[0m \u001b[1m1s\u001b[0m 17ms/step - accuracy: 0.0251 - loss: 4.3808 - val_accuracy: 0.0000e+00 - val_loss: 30.4289\n",
            "Epoch 72/100\n",
            "\u001b[1m42/45\u001b[0m \u001b[32m━━━━━━━━━━━━━━━━━━\u001b[0m\u001b[37m━━\u001b[0m \u001b[1m0s\u001b[0m 14ms/step - accuracy: 0.0439 - loss: 4.2919\n",
            "Epoch 72: loss improved from 4.45644 to 4.41340, saving model to /content/ROTC_chatbot_model_checkpoint.keras\n",
            "\u001b[1m45/45\u001b[0m \u001b[32m━━━━━━━━━━━━━━━━━━━━\u001b[0m\u001b[37m\u001b[0m \u001b[1m1s\u001b[0m 17ms/step - accuracy: 0.0423 - loss: 4.3021 - val_accuracy: 0.0000e+00 - val_loss: 30.6096\n",
            "Epoch 73/100\n",
            "\u001b[1m44/45\u001b[0m \u001b[32m━━━━━━━━━━━━━━━━━━━\u001b[0m\u001b[37m━\u001b[0m \u001b[1m0s\u001b[0m 14ms/step - accuracy: 0.0282 - loss: 4.4008\n",
            "Epoch 73: loss did not improve from 4.41340\n",
            "\u001b[1m45/45\u001b[0m \u001b[32m━━━━━━━━━━━━━━━━━━━━\u001b[0m\u001b[37m\u001b[0m \u001b[1m1s\u001b[0m 16ms/step - accuracy: 0.0279 - loss: 4.4024 - val_accuracy: 0.0000e+00 - val_loss: 30.5188\n",
            "Epoch 74/100\n",
            "\u001b[1m44/45\u001b[0m \u001b[32m━━━━━━━━━━━━━━━━━━━\u001b[0m\u001b[37m━\u001b[0m \u001b[1m0s\u001b[0m 14ms/step - accuracy: 0.0348 - loss: 4.2720\n",
            "Epoch 74: loss improved from 4.41340 to 4.35724, saving model to /content/ROTC_chatbot_model_checkpoint.keras\n",
            "\u001b[1m45/45\u001b[0m \u001b[32m━━━━━━━━━━━━━━━━━━━━\u001b[0m\u001b[37m\u001b[0m \u001b[1m1s\u001b[0m 17ms/step - accuracy: 0.0343 - loss: 4.2757 - val_accuracy: 0.0000e+00 - val_loss: 30.6145\n",
            "Epoch 75/100\n",
            "\u001b[1m43/45\u001b[0m \u001b[32m━━━━━━━━━━━━━━━━━━━\u001b[0m\u001b[37m━\u001b[0m \u001b[1m0s\u001b[0m 17ms/step - accuracy: 0.0657 - loss: 4.1464\n",
            "Epoch 75: loss improved from 4.35724 to 4.30799, saving model to /content/ROTC_chatbot_model_checkpoint.keras\n",
            "\u001b[1m45/45\u001b[0m \u001b[32m━━━━━━━━━━━━━━━━━━━━\u001b[0m\u001b[37m\u001b[0m \u001b[1m1s\u001b[0m 22ms/step - accuracy: 0.0635 - loss: 4.1568 - val_accuracy: 0.0000e+00 - val_loss: 30.8401\n",
            "Epoch 76/100\n",
            "\u001b[1m45/45\u001b[0m \u001b[32m━━━━━━━━━━━━━━━━━━━━\u001b[0m\u001b[37m\u001b[0m \u001b[1m0s\u001b[0m 23ms/step - accuracy: 0.0516 - loss: 4.1475\n",
            "Epoch 76: loss improved from 4.30799 to 4.27665, saving model to /content/ROTC_chatbot_model_checkpoint.keras\n",
            "\u001b[1m45/45\u001b[0m \u001b[32m━━━━━━━━━━━━━━━━━━━━\u001b[0m\u001b[37m\u001b[0m \u001b[1m1s\u001b[0m 28ms/step - accuracy: 0.0511 - loss: 4.1503 - val_accuracy: 0.0000e+00 - val_loss: 30.8970\n",
            "Epoch 77/100\n",
            "\u001b[1m44/45\u001b[0m \u001b[32m━━━━━━━━━━━━━━━━━━━\u001b[0m\u001b[37m━\u001b[0m \u001b[1m0s\u001b[0m 23ms/step - accuracy: 0.0538 - loss: 4.1381\n",
            "Epoch 77: loss improved from 4.27665 to 4.23680, saving model to /content/ROTC_chatbot_model_checkpoint.keras\n",
            "\u001b[1m45/45\u001b[0m \u001b[32m━━━━━━━━━━━━━━━━━━━━\u001b[0m\u001b[37m\u001b[0m \u001b[1m1s\u001b[0m 28ms/step - accuracy: 0.0528 - loss: 4.1423 - val_accuracy: 0.0000e+00 - val_loss: 30.9089\n",
            "Epoch 78/100\n",
            "\u001b[1m45/45\u001b[0m \u001b[32m━━━━━━━━━━━━━━━━━━━━\u001b[0m\u001b[37m\u001b[0m \u001b[1m0s\u001b[0m 31ms/step - accuracy: 0.0660 - loss: 4.0722\n",
            "Epoch 78: loss improved from 4.23680 to 4.21104, saving model to /content/ROTC_chatbot_model_checkpoint.keras\n",
            "\u001b[1m45/45\u001b[0m \u001b[32m━━━━━━━━━━━━━━━━━━━━\u001b[0m\u001b[37m\u001b[0m \u001b[1m3s\u001b[0m 36ms/step - accuracy: 0.0654 - loss: 4.0752 - val_accuracy: 0.0000e+00 - val_loss: 31.0873\n",
            "Epoch 79/100\n",
            "\u001b[1m45/45\u001b[0m \u001b[32m━━━━━━━━━━━━━━━━━━━━\u001b[0m\u001b[37m\u001b[0m \u001b[1m0s\u001b[0m 25ms/step - accuracy: 0.0510 - loss: 4.1041\n",
            "Epoch 79: loss did not improve from 4.21104\n",
            "\u001b[1m45/45\u001b[0m \u001b[32m━━━━━━━━━━━━━━━━━━━━\u001b[0m\u001b[37m\u001b[0m \u001b[1m1s\u001b[0m 27ms/step - accuracy: 0.0505 - loss: 4.1065 - val_accuracy: 0.0000e+00 - val_loss: 31.1294\n",
            "Epoch 80/100\n",
            "\u001b[1m44/45\u001b[0m \u001b[32m━━━━━━━━━━━━━━━━━━━\u001b[0m\u001b[37m━\u001b[0m \u001b[1m0s\u001b[0m 14ms/step - accuracy: 0.0505 - loss: 4.0656\n",
            "Epoch 80: loss improved from 4.21104 to 4.20046, saving model to /content/ROTC_chatbot_model_checkpoint.keras\n",
            "\u001b[1m45/45\u001b[0m \u001b[32m━━━━━━━━━━━━━━━━━━━━\u001b[0m\u001b[37m\u001b[0m \u001b[1m1s\u001b[0m 17ms/step - accuracy: 0.0495 - loss: 4.0714 - val_accuracy: 0.0000e+00 - val_loss: 31.3259\n",
            "Epoch 81/100\n",
            "\u001b[1m45/45\u001b[0m \u001b[32m━━━━━━━━━━━━━━━━━━━━\u001b[0m\u001b[37m\u001b[0m \u001b[1m0s\u001b[0m 26ms/step - accuracy: 0.0646 - loss: 4.0467\n",
            "Epoch 81: loss improved from 4.20046 to 4.17860, saving model to /content/ROTC_chatbot_model_checkpoint.keras\n",
            "\u001b[1m45/45\u001b[0m \u001b[32m━━━━━━━━━━━━━━━━━━━━\u001b[0m\u001b[37m\u001b[0m \u001b[1m2s\u001b[0m 31ms/step - accuracy: 0.0640 - loss: 4.0496 - val_accuracy: 0.0000e+00 - val_loss: 31.2116\n",
            "Epoch 82/100\n",
            "\u001b[1m45/45\u001b[0m \u001b[32m━━━━━━━━━━━━━━━━━━━━\u001b[0m\u001b[37m\u001b[0m \u001b[1m0s\u001b[0m 14ms/step - accuracy: 0.0499 - loss: 4.0145\n",
            "Epoch 82: loss improved from 4.17860 to 4.15878, saving model to /content/ROTC_chatbot_model_checkpoint.keras\n",
            "\u001b[1m45/45\u001b[0m \u001b[32m━━━━━━━━━━━━━━━━━━━━\u001b[0m\u001b[37m\u001b[0m \u001b[1m2s\u001b[0m 17ms/step - accuracy: 0.0494 - loss: 4.0176 - val_accuracy: 0.0000e+00 - val_loss: 31.3258\n",
            "Epoch 83/100\n",
            "\u001b[1m44/45\u001b[0m \u001b[32m━━━━━━━━━━━━━━━━━━━\u001b[0m\u001b[37m━\u001b[0m \u001b[1m0s\u001b[0m 14ms/step - accuracy: 0.0519 - loss: 4.0242\n",
            "Epoch 83: loss improved from 4.15878 to 4.13341, saving model to /content/ROTC_chatbot_model_checkpoint.keras\n",
            "\u001b[1m45/45\u001b[0m \u001b[32m━━━━━━━━━━━━━━━━━━━━\u001b[0m\u001b[37m\u001b[0m \u001b[1m1s\u001b[0m 18ms/step - accuracy: 0.0513 - loss: 4.0290 - val_accuracy: 0.0000e+00 - val_loss: 31.3277\n",
            "Epoch 84/100\n",
            "\u001b[1m44/45\u001b[0m \u001b[32m━━━━━━━━━━━━━━━━━━━\u001b[0m\u001b[37m━\u001b[0m \u001b[1m0s\u001b[0m 24ms/step - accuracy: 0.0761 - loss: 3.9842\n",
            "Epoch 84: loss improved from 4.13341 to 4.09759, saving model to /content/ROTC_chatbot_model_checkpoint.keras\n",
            "\u001b[1m45/45\u001b[0m \u001b[32m━━━━━━━━━━━━━━━━━━━━\u001b[0m\u001b[37m\u001b[0m \u001b[1m2s\u001b[0m 28ms/step - accuracy: 0.0748 - loss: 3.9892 - val_accuracy: 0.0000e+00 - val_loss: 31.3584\n",
            "Epoch 85/100\n",
            "\u001b[1m43/45\u001b[0m \u001b[32m━━━━━━━━━━━━━━━━━━━\u001b[0m\u001b[37m━\u001b[0m \u001b[1m0s\u001b[0m 31ms/step - accuracy: 0.0640 - loss: 3.9556\n",
            "Epoch 85: loss improved from 4.09759 to 4.09581, saving model to /content/ROTC_chatbot_model_checkpoint.keras\n",
            "\u001b[1m45/45\u001b[0m \u001b[32m━━━━━━━━━━━━━━━━━━━━\u001b[0m\u001b[37m\u001b[0m \u001b[1m3s\u001b[0m 34ms/step - accuracy: 0.0624 - loss: 3.9645 - val_accuracy: 0.0000e+00 - val_loss: 31.5209\n",
            "Epoch 86/100\n",
            "\u001b[1m42/45\u001b[0m \u001b[32m━━━━━━━━━━━━━━━━━━\u001b[0m\u001b[37m━━\u001b[0m \u001b[1m0s\u001b[0m 15ms/step - accuracy: 0.0542 - loss: 4.0297\n",
            "Epoch 86: loss did not improve from 4.09581\n",
            "\u001b[1m45/45\u001b[0m \u001b[32m━━━━━━━━━━━━━━━━━━━━\u001b[0m\u001b[37m\u001b[0m \u001b[1m1s\u001b[0m 19ms/step - accuracy: 0.0526 - loss: 4.0422 - val_accuracy: 0.0000e+00 - val_loss: 31.4457\n",
            "Epoch 87/100\n",
            "\u001b[1m43/45\u001b[0m \u001b[32m━━━━━━━━━━━━━━━━━━━\u001b[0m\u001b[37m━\u001b[0m \u001b[1m0s\u001b[0m 21ms/step - accuracy: 0.0669 - loss: 3.9783\n",
            "Epoch 87: loss did not improve from 4.09581\n",
            "\u001b[1m45/45\u001b[0m \u001b[32m━━━━━━━━━━━━━━━━━━━━\u001b[0m\u001b[37m\u001b[0m \u001b[1m2s\u001b[0m 25ms/step - accuracy: 0.0650 - loss: 3.9886 - val_accuracy: 0.0000e+00 - val_loss: 31.3551\n",
            "Epoch 88/100\n",
            "\u001b[1m43/45\u001b[0m \u001b[32m━━━━━━━━━━━━━━━━━━━\u001b[0m\u001b[37m━\u001b[0m \u001b[1m0s\u001b[0m 16ms/step - accuracy: 0.0755 - loss: 4.0010\n",
            "Epoch 88: loss did not improve from 4.09581\n",
            "\u001b[1m45/45\u001b[0m \u001b[32m━━━━━━━━━━━━━━━━━━━━\u001b[0m\u001b[37m\u001b[0m \u001b[1m1s\u001b[0m 21ms/step - accuracy: 0.0734 - loss: 4.0074 - val_accuracy: 0.0000e+00 - val_loss: 31.4894\n",
            "Epoch 89/100\n",
            "\u001b[1m43/45\u001b[0m \u001b[32m━━━━━━━━━━━━━━━━━━━\u001b[0m\u001b[37m━\u001b[0m \u001b[1m0s\u001b[0m 24ms/step - accuracy: 0.0772 - loss: 3.9020\n",
            "Epoch 89: loss improved from 4.09581 to 4.05420, saving model to /content/ROTC_chatbot_model_checkpoint.keras\n",
            "\u001b[1m45/45\u001b[0m \u001b[32m━━━━━━━━━━━━━━━━━━━━\u001b[0m\u001b[37m\u001b[0m \u001b[1m1s\u001b[0m 30ms/step - accuracy: 0.0748 - loss: 3.9118 - val_accuracy: 0.0000e+00 - val_loss: 31.6786\n",
            "Epoch 90/100\n",
            "\u001b[1m43/45\u001b[0m \u001b[32m━━━━━━━━━━━━━━━━━━━\u001b[0m\u001b[37m━\u001b[0m \u001b[1m0s\u001b[0m 15ms/step - accuracy: 0.0757 - loss: 3.8929\n",
            "Epoch 90: loss improved from 4.05420 to 4.02999, saving model to /content/ROTC_chatbot_model_checkpoint.keras\n",
            "\u001b[1m45/45\u001b[0m \u001b[32m━━━━━━━━━━━━━━━━━━━━\u001b[0m\u001b[37m\u001b[0m \u001b[1m2s\u001b[0m 21ms/step - accuracy: 0.0736 - loss: 3.9017 - val_accuracy: 0.0000e+00 - val_loss: 31.7779\n",
            "Epoch 91/100\n",
            "\u001b[1m42/45\u001b[0m \u001b[32m━━━━━━━━━━━━━━━━━━\u001b[0m\u001b[37m━━\u001b[0m \u001b[1m0s\u001b[0m 15ms/step - accuracy: 0.0730 - loss: 3.8235\n",
            "Epoch 91: loss improved from 4.02999 to 3.97728, saving model to /content/ROTC_chatbot_model_checkpoint.keras\n",
            "\u001b[1m45/45\u001b[0m \u001b[32m━━━━━━━━━━━━━━━━━━━━\u001b[0m\u001b[37m\u001b[0m \u001b[1m1s\u001b[0m 18ms/step - accuracy: 0.0706 - loss: 3.8368 - val_accuracy: 0.0000e+00 - val_loss: 31.5886\n",
            "Epoch 92/100\n",
            "\u001b[1m42/45\u001b[0m \u001b[32m━━━━━━━━━━━━━━━━━━\u001b[0m\u001b[37m━━\u001b[0m \u001b[1m0s\u001b[0m 15ms/step - accuracy: 0.0795 - loss: 3.8250\n",
            "Epoch 92: loss improved from 3.97728 to 3.92842, saving model to /content/ROTC_chatbot_model_checkpoint.keras\n",
            "\u001b[1m45/45\u001b[0m \u001b[32m━━━━━━━━━━━━━━━━━━━━\u001b[0m\u001b[37m\u001b[0m \u001b[1m1s\u001b[0m 18ms/step - accuracy: 0.0772 - loss: 3.8335 - val_accuracy: 0.0000e+00 - val_loss: 31.6774\n",
            "Epoch 93/100\n",
            "\u001b[1m44/45\u001b[0m \u001b[32m━━━━━━━━━━━━━━━━━━━\u001b[0m\u001b[37m━\u001b[0m \u001b[1m0s\u001b[0m 23ms/step - accuracy: 0.0942 - loss: 3.7308\n",
            "Epoch 93: loss improved from 3.92842 to 3.91285, saving model to /content/ROTC_chatbot_model_checkpoint.keras\n",
            "\u001b[1m45/45\u001b[0m \u001b[32m━━━━━━━━━━━━━━━━━━━━\u001b[0m\u001b[37m\u001b[0m \u001b[1m2s\u001b[0m 28ms/step - accuracy: 0.0923 - loss: 3.7387 - val_accuracy: 0.0000e+00 - val_loss: 31.8542\n",
            "Epoch 94/100\n",
            "\u001b[1m45/45\u001b[0m \u001b[32m━━━━━━━━━━━━━━━━━━━━\u001b[0m\u001b[37m\u001b[0m \u001b[1m0s\u001b[0m 25ms/step - accuracy: 0.0886 - loss: 3.7880\n",
            "Epoch 94: loss improved from 3.91285 to 3.89797, saving model to /content/ROTC_chatbot_model_checkpoint.keras\n",
            "\u001b[1m45/45\u001b[0m \u001b[32m━━━━━━━━━━━━━━━━━━━━\u001b[0m\u001b[37m\u001b[0m \u001b[1m3s\u001b[0m 30ms/step - accuracy: 0.0879 - loss: 3.7904 - val_accuracy: 0.0000e+00 - val_loss: 31.8473\n",
            "Epoch 95/100\n",
            "\u001b[1m45/45\u001b[0m \u001b[32m━━━━━━━━━━━━━━━━━━━━\u001b[0m\u001b[37m\u001b[0m \u001b[1m0s\u001b[0m 14ms/step - accuracy: 0.0932 - loss: 3.7731\n",
            "Epoch 95: loss improved from 3.89797 to 3.87562, saving model to /content/ROTC_chatbot_model_checkpoint.keras\n",
            "\u001b[1m45/45\u001b[0m \u001b[32m━━━━━━━━━━━━━━━━━━━━\u001b[0m\u001b[37m\u001b[0m \u001b[1m2s\u001b[0m 17ms/step - accuracy: 0.0924 - loss: 3.7753 - val_accuracy: 0.0000e+00 - val_loss: 31.7343\n",
            "Epoch 96/100\n",
            "\u001b[1m42/45\u001b[0m \u001b[32m━━━━━━━━━━━━━━━━━━\u001b[0m\u001b[37m━━\u001b[0m \u001b[1m0s\u001b[0m 15ms/step - accuracy: 0.1015 - loss: 3.7479\n",
            "Epoch 96: loss improved from 3.87562 to 3.86241, saving model to /content/ROTC_chatbot_model_checkpoint.keras\n",
            "\u001b[1m45/45\u001b[0m \u001b[32m━━━━━━━━━━━━━━━━━━━━\u001b[0m\u001b[37m\u001b[0m \u001b[1m1s\u001b[0m 18ms/step - accuracy: 0.0980 - loss: 3.7574 - val_accuracy: 0.0000e+00 - val_loss: 31.7822\n",
            "Epoch 97/100\n",
            "\u001b[1m42/45\u001b[0m \u001b[32m━━━━━━━━━━━━━━━━━━\u001b[0m\u001b[37m━━\u001b[0m \u001b[1m0s\u001b[0m 16ms/step - accuracy: 0.1282 - loss: 3.6904\n",
            "Epoch 97: loss improved from 3.86241 to 3.84678, saving model to /content/ROTC_chatbot_model_checkpoint.keras\n",
            "\u001b[1m45/45\u001b[0m \u001b[32m━━━━━━━━━━━━━━━━━━━━\u001b[0m\u001b[37m\u001b[0m \u001b[1m1s\u001b[0m 19ms/step - accuracy: 0.1235 - loss: 3.7035 - val_accuracy: 0.0000e+00 - val_loss: 31.9957\n",
            "Epoch 98/100\n",
            "\u001b[1m44/45\u001b[0m \u001b[32m━━━━━━━━━━━━━━━━━━━\u001b[0m\u001b[37m━\u001b[0m \u001b[1m0s\u001b[0m 16ms/step - accuracy: 0.1018 - loss: 3.6874\n",
            "Epoch 98: loss did not improve from 3.84678\n",
            "\u001b[1m45/45\u001b[0m \u001b[32m━━━━━━━━━━━━━━━━━━━━\u001b[0m\u001b[37m\u001b[0m \u001b[1m1s\u001b[0m 20ms/step - accuracy: 0.0998 - loss: 3.6952 - val_accuracy: 0.0000e+00 - val_loss: 31.8093\n",
            "Epoch 99/100\n",
            "\u001b[1m43/45\u001b[0m \u001b[32m━━━━━━━━━━━━━━━━━━━\u001b[0m\u001b[37m━\u001b[0m \u001b[1m0s\u001b[0m 15ms/step - accuracy: 0.0816 - loss: 3.7196\n",
            "Epoch 99: loss did not improve from 3.84678\n",
            "\u001b[1m45/45\u001b[0m \u001b[32m━━━━━━━━━━━━━━━━━━━━\u001b[0m\u001b[37m\u001b[0m \u001b[1m1s\u001b[0m 17ms/step - accuracy: 0.0798 - loss: 3.7306 - val_accuracy: 0.0000e+00 - val_loss: 31.8489\n",
            "Epoch 100/100\n",
            "\u001b[1m45/45\u001b[0m \u001b[32m━━━━━━━━━━━━━━━━━━━━\u001b[0m\u001b[37m\u001b[0m \u001b[1m0s\u001b[0m 14ms/step - accuracy: 0.0990 - loss: 3.7664\n",
            "Epoch 100: loss did not improve from 3.84678\n",
            "\u001b[1m45/45\u001b[0m \u001b[32m━━━━━━━━━━━━━━━━━━━━\u001b[0m\u001b[37m\u001b[0m \u001b[1m1s\u001b[0m 16ms/step - accuracy: 0.0983 - loss: 3.7683 - val_accuracy: 0.0000e+00 - val_loss: 31.8779\n"
          ]
        }
      ]
    },
    {
      "cell_type": "markdown",
      "source": [
        "# Step 8: Error analysis on misclassified data"
      ],
      "metadata": {
        "id": "weU8Ctjb_-zz"
      }
    },
    {
      "cell_type": "code",
      "source": [
        "# Step 8: Error analysis on misclassified data\n",
        "\n",
        "# Predict classes for validation data\n",
        "y_pred = np.argmax(model.predict(X_val), axis=1)\n",
        "\n",
        "# Get the indices of the validation data (use range based on the number of rows in X_val)\n",
        "val_indices = range(len(X_val))\n",
        "\n",
        "# Create a DataFrame to compare the true and predicted labels\n",
        "misclassified_data = pd.DataFrame({\n",
        "    'True Label': y_val,\n",
        "    'Predicted Label': y_pred,\n",
        "    'Text': df['Pattern'].iloc[val_indices].values  # Access the corresponding text based on indices\n",
        "})\n",
        "\n",
        "# Find rows where the model's prediction is incorrect\n",
        "misclassified_data = misclassified_data[misclassified_data['True Label'] != misclassified_data['Predicted Label']]\n",
        "\n",
        "# Display some of the misclassified data\n",
        "print(\"Misclassified Data Sample:\")\n",
        "print(misclassified_data.head(10))  # Display the first 10 misclassified examples\n"
      ],
      "metadata": {
        "colab": {
          "base_uri": "https://localhost:8080/"
        },
        "id": "G4RbqBWo__0I",
        "outputId": "bf99594a-c5e1-47fc-87bc-c10c6470200b"
      },
      "execution_count": null,
      "outputs": [
        {
          "output_type": "stream",
          "name": "stdout",
          "text": [
            "\u001b[1m12/12\u001b[0m \u001b[32m━━━━━━━━━━━━━━━━━━━━\u001b[0m\u001b[37m\u001b[0m \u001b[1m0s\u001b[0m 5ms/step\n",
            "Misclassified Data Sample:\n",
            "   True Label  Predicted Label  \\\n",
            "0         942              776   \n",
            "1        1418              214   \n",
            "2         486              338   \n",
            "3         427              739   \n",
            "4        1303             1314   \n",
            "5         755              792   \n",
            "6        1541              580   \n",
            "7         841             1365   \n",
            "8        1782              720   \n",
            "9         462             1099   \n",
            "\n",
            "                                                Text  \n",
            "0   what are the qualities of a good military leader  \n",
            "1             what is the purpose of military drills  \n",
            "2           what are the core values in the military  \n",
            "3           why are values important in the military  \n",
            "4                        what is military discipline  \n",
            "5               why is military discipline important  \n",
            "6      why should rotc cadets learn military customs  \n",
            "7             how does leadership impact rotc cadets  \n",
            "8           what are military customs and traditions  \n",
            "9  how often should cadets undergo physical training  \n"
          ]
        }
      ]
    },
    {
      "cell_type": "code",
      "source": [
        "# Count the misclassifications for each class\n",
        "misclassified_count = misclassified_data.groupby(['True Label', 'Predicted Label']).size().reset_index(name='Count')\n",
        "\n",
        "# You can also group by just 'True Label' if you want to see which classes were mostly misclassified\n",
        "misclassified_count_per_class = misclassified_data.groupby('True Label').size().reset_index(name='Misclassified Count')\n"
      ],
      "metadata": {
        "id": "e3sA8Zm5k0we"
      },
      "execution_count": null,
      "outputs": []
    },
    {
      "cell_type": "code",
      "source": [
        "# Plotting misclassifications per true label\n",
        "plt.figure(figsize=(10, 6))\n",
        "plt.bar(misclassified_count_per_class['True Label'], misclassified_count_per_class['Misclassified Count'], color='red')\n",
        "plt.title('Misclassifications per True Label')\n",
        "plt.xlabel('True Label')\n",
        "plt.ylabel('Number of Misclassifications')\n",
        "plt.xticks(rotation=90)\n",
        "plt.tight_layout()\n",
        "plt.show()\n",
        "\n",
        "# Optionally, you can also plot misclassifications per predicted label\n",
        "misclassified_count_per_pred = misclassified_data.groupby('Predicted Label').size().reset_index(name='Misclassified Count')\n",
        "\n",
        "plt.figure(figsize=(10, 6))\n",
        "plt.bar(misclassified_count_per_pred['Predicted Label'], misclassified_count_per_pred['Misclassified Count'], color='orange')\n",
        "plt.title('Misclassifications per Predicted Label')\n",
        "plt.xlabel('Predicted Label')\n",
        "plt.ylabel('Number of Misclassifications')\n",
        "plt.xticks(rotation=90)\n",
        "plt.tight_layout()\n",
        "plt.show()"
      ],
      "metadata": {
        "colab": {
          "base_uri": "https://localhost:8080/",
          "height": 1000
        },
        "id": "d9Z3VTi5k3d4",
        "outputId": "4e7186fe-d343-4433-de94-c1760ce6740a"
      },
      "execution_count": null,
      "outputs": [
        {
          "output_type": "display_data",
          "data": {
            "text/plain": [
              "<Figure size 1000x600 with 1 Axes>"
            ],
            "image/png": "[encoded data removed]"
          },
          "metadata": {}
        },
        {
          "output_type": "display_data",
          "data": {
            "text/plain": [
              "<Figure size 1000x600 with 1 Axes>"
            ],
            "image/png": "[encoded data removed]"
          },
          "metadata": {}
        }
      ]
    },
    {
      "cell_type": "markdown",
      "source": [
        "# Step 9: Adjust model weights and retrain"
      ],
      "metadata": {
        "id": "EUZa9kehACYT"
      }
    },
    {
      "cell_type": "code",
      "source": [
        "# Calculate class weights to handle class imbalance\n",
        "unique_classes = np.unique(y_train)\n",
        "class_weights = compute_class_weight('balanced', classes=unique_classes, y=y_train)\n",
        "class_weights_dict = {i: weight for i, weight in enumerate(class_weights)}\n",
        "\n",
        "# One-hot encode the target variables\n",
        "y_train_encoded = to_categorical(y_train, num_classes=len(df['Formatted_Response']))  # One-hot encode y_train\n",
        "y_val_encoded = to_categorical(y_val, num_classes=len(df['Formatted_Response']))  # One-hot encode y_val\n",
        "\n",
        "# Modify the model compilation to include Precision and Recall\n",
        "model.compile(\n",
        "    loss='categorical_crossentropy',  # Change loss to categorical_crossentropy\n",
        "    optimizer='adam',\n",
        "    metrics=['accuracy', Precision(), Recall()]  # Add Precision and Recall metrics\n",
        ")\n",
        "\n",
        "# Retrain the model with class weights and one-hot encoded targets\n",
        "history = model.fit(\n",
        "    X_train, y_train_encoded,  # Use one-hot encoded y_train\n",
        "    validation_data=(X_val, y_val_encoded),  # Use one-hot encoded y_val\n",
        "    epochs=100, batch_size=32, verbose=1,\n",
        "    callbacks=[checkpoint_callback, accuracy_threshold_callback],\n",
        "    class_weight=class_weights_dict\n",
        ")\n"
      ],
      "metadata": {
        "colab": {
          "base_uri": "https://localhost:8080/"
        },
        "id": "912NJP02EBEY",
        "outputId": "d3d60319-86f3-4bda-9093-5aa20c1e13e4"
      },
      "execution_count": null,
      "outputs": [
        {
          "output_type": "stream",
          "name": "stdout",
          "text": [
            "Epoch 1/300\n",
            "\u001b[1m44/45\u001b[0m \u001b[32m━━━━━━━━━━━━━━━━━━━\u001b[0m\u001b[37m━\u001b[0m \u001b[1m0s\u001b[0m 14ms/step - accuracy: 0.7604 - loss: 0.7368 - precision_6: 0.8345 - recall_6: 0.6629\n",
            "Epoch 1: loss did not improve from 0.17582\n",
            "\u001b[1m45/45\u001b[0m \u001b[32m━━━━━━━━━━━━━━━━━━━━\u001b[0m\u001b[37m\u001b[0m \u001b[1m5s\u001b[0m 29ms/step - accuracy: 0.7585 - loss: 0.7402 - precision_6: 0.8333 - recall_6: 0.6609 - val_accuracy: 0.0000e+00 - val_loss: 60.3857 - val_precision_6: 0.0000e+00 - val_recall_6: 0.0000e+00\n",
            "Epoch 2/300\n",
            "\u001b[1m45/45\u001b[0m \u001b[32m━━━━━━━━━━━━━━━━━━━━\u001b[0m\u001b[37m\u001b[0m \u001b[1m0s\u001b[0m 13ms/step - accuracy: 0.9275 - loss: 0.3192 - precision_6: 0.9759 - recall_6: 0.8571\n",
            "Epoch 2: loss did not improve from 0.17582\n",
            "\u001b[1m45/45\u001b[0m \u001b[32m━━━━━━━━━━━━━━━━━━━━\u001b[0m\u001b[37m\u001b[0m \u001b[1m2s\u001b[0m 18ms/step - accuracy: 0.9273 - loss: 0.3196 - precision_6: 0.9759 - recall_6: 0.8570 - val_accuracy: 0.0000e+00 - val_loss: 61.0789 - val_precision_6: 0.0000e+00 - val_recall_6: 0.0000e+00\n",
            "Epoch 3/300\n",
            "\u001b[1m44/45\u001b[0m \u001b[32m━━━━━━━━━━━━━━━━━━━\u001b[0m\u001b[37m━\u001b[0m \u001b[1m0s\u001b[0m 14ms/step - accuracy: 0.9541 - loss: 0.2548 - precision_6: 0.9834 - recall_6: 0.8870\n",
            "Epoch 3: loss did not improve from 0.17582\n",
            "\u001b[1m45/45\u001b[0m \u001b[32m━━━━━━━━━━━━━━━━━━━━\u001b[0m\u001b[37m\u001b[0m \u001b[1m1s\u001b[0m 16ms/step - accuracy: 0.9534 - loss: 0.2558 - precision_6: 0.9833 - recall_6: 0.8864 - val_accuracy: 0.0000e+00 - val_loss: 60.3001 - val_precision_6: 0.0000e+00 - val_recall_6: 0.0000e+00\n",
            "Epoch 4/300\n",
            "\u001b[1m44/45\u001b[0m \u001b[32m━━━━━━━━━━━━━━━━━━━\u001b[0m\u001b[37m━\u001b[0m \u001b[1m0s\u001b[0m 13ms/step - accuracy: 0.9820 - loss: 0.1768 - precision_6: 0.9929 - recall_6: 0.9423\n",
            "Epoch 4: loss did not improve from 0.17582\n",
            "\u001b[1m45/45\u001b[0m \u001b[32m━━━━━━━━━━━━━━━━━━━━\u001b[0m\u001b[37m\u001b[0m \u001b[1m1s\u001b[0m 17ms/step - accuracy: 0.9813 - loss: 0.1785 - precision_6: 0.9927 - recall_6: 0.9411 - val_accuracy: 0.0000e+00 - val_loss: 60.3536 - val_precision_6: 0.0000e+00 - val_recall_6: 0.0000e+00\n",
            "Epoch 5/300\n",
            "\u001b[1m44/45\u001b[0m \u001b[32m━━━━━━━━━━━━━━━━━━━\u001b[0m\u001b[37m━\u001b[0m \u001b[1m0s\u001b[0m 14ms/step - accuracy: 0.9908 - loss: 0.1675 - precision_6: 0.9974 - recall_6: 0.9473\n",
            "Epoch 5: loss did not improve from 0.17582\n",
            "\u001b[1m45/45\u001b[0m \u001b[32m━━━━━━━━━━━━━━━━━━━━\u001b[0m\u001b[37m\u001b[0m \u001b[1m1s\u001b[0m 16ms/step - accuracy: 0.9903 - loss: 0.1683 - precision_6: 0.9974 - recall_6: 0.9466 - val_accuracy: 0.0000e+00 - val_loss: 60.6410 - val_precision_6: 0.0000e+00 - val_recall_6: 0.0000e+00\n",
            "Epoch 6/300\n",
            "\u001b[1m43/45\u001b[0m \u001b[32m━━━━━━━━━━━━━━━━━━━\u001b[0m\u001b[37m━\u001b[0m \u001b[1m0s\u001b[0m 29ms/step - accuracy: 0.9892 - loss: 0.1404 - precision_6: 0.9983 - recall_6: 0.9638\n",
            "Epoch 6: loss improved from 0.17582 to 0.17052, saving model to /content/ROTC_chatbot_model_checkpoint.keras\n",
            "\u001b[1m45/45\u001b[0m \u001b[32m━━━━━━━━━━━━━━━━━━━━\u001b[0m\u001b[37m\u001b[0m \u001b[1m2s\u001b[0m 31ms/step - accuracy: 0.9884 - loss: 0.1423 - precision_6: 0.9982 - recall_6: 0.9623 - val_accuracy: 0.0000e+00 - val_loss: 60.1263 - val_precision_6: 0.0000e+00 - val_recall_6: 0.0000e+00\n",
            "Epoch 7/300\n",
            "\u001b[1m43/45\u001b[0m \u001b[32m━━━━━━━━━━━━━━━━━━━\u001b[0m\u001b[37m━\u001b[0m \u001b[1m0s\u001b[0m 30ms/step - accuracy: 0.9891 - loss: 0.1386 - precision_6: 0.9967 - recall_6: 0.9635\n",
            "Epoch 7: loss improved from 0.17052 to 0.16519, saving model to /content/ROTC_chatbot_model_checkpoint.keras\n",
            "\u001b[1m45/45\u001b[0m \u001b[32m━━━━━━━━━━━━━━━━━━━━\u001b[0m\u001b[37m\u001b[0m \u001b[1m2s\u001b[0m 44ms/step - accuracy: 0.9884 - loss: 0.1403 - precision_6: 0.9967 - recall_6: 0.9623 - val_accuracy: 0.0000e+00 - val_loss: 60.1706 - val_precision_6: 0.0000e+00 - val_recall_6: 0.0000e+00\n",
            "Epoch 8/300\n",
            "\u001b[1m44/45\u001b[0m \u001b[32m━━━━━━━━━━━━━━━━━━━\u001b[0m\u001b[37m━\u001b[0m \u001b[1m0s\u001b[0m 40ms/step - accuracy: 0.9875 - loss: 0.1454 - precision_6: 0.9988 - recall_6: 0.9482\n",
            "Epoch 8: loss improved from 0.16519 to 0.16004, saving model to /content/ROTC_chatbot_model_checkpoint.keras\n",
            "\u001b[1m45/45\u001b[0m \u001b[32m━━━━━━━━━━━━━━━━━━━━\u001b[0m\u001b[37m\u001b[0m \u001b[1m3s\u001b[0m 46ms/step - accuracy: 0.9873 - loss: 0.1460 - precision_6: 0.9988 - recall_6: 0.9479 - val_accuracy: 0.0000e+00 - val_loss: 60.5766 - val_precision_6: 0.0000e+00 - val_recall_6: 0.0000e+00\n",
            "Epoch 9/300\n",
            "\u001b[1m42/45\u001b[0m \u001b[32m━━━━━━━━━━━━━━━━━━\u001b[0m\u001b[37m━━\u001b[0m \u001b[1m0s\u001b[0m 14ms/step - accuracy: 0.9886 - loss: 0.1439 - precision_6: 0.9976 - recall_6: 0.9495\n",
            "Epoch 9: loss improved from 0.16004 to 0.15829, saving model to /content/ROTC_chatbot_model_checkpoint.keras\n",
            "\u001b[1m45/45\u001b[0m \u001b[32m━━━━━━━━━━━━━━━━━━━━\u001b[0m\u001b[37m\u001b[0m \u001b[1m1s\u001b[0m 18ms/step - accuracy: 0.9878 - loss: 0.1452 - precision_6: 0.9974 - recall_6: 0.9489 - val_accuracy: 0.0000e+00 - val_loss: 60.2166 - val_precision_6: 0.0000e+00 - val_recall_6: 0.0000e+00\n",
            "Epoch 10/300\n",
            "\u001b[1m42/45\u001b[0m \u001b[32m━━━━━━━━━━━━━━━━━━\u001b[0m\u001b[37m━━\u001b[0m \u001b[1m0s\u001b[0m 14ms/step - accuracy: 0.9910 - loss: 0.1289 - precision_6: 0.9977 - recall_6: 0.9638\n",
            "Epoch 10: loss improved from 0.15829 to 0.15652, saving model to /content/ROTC_chatbot_model_checkpoint.keras\n",
            "\u001b[1m45/45\u001b[0m \u001b[32m━━━━━━━━━━━━━━━━━━━━\u001b[0m\u001b[37m\u001b[0m \u001b[1m1s\u001b[0m 18ms/step - accuracy: 0.9900 - loss: 0.1313 - precision_6: 0.9975 - recall_6: 0.9621 - val_accuracy: 0.0000e+00 - val_loss: 60.1398 - val_precision_6: 0.0000e+00 - val_recall_6: 0.0000e+00\n",
            "Epoch 11/300\n",
            "\u001b[1m41/45\u001b[0m \u001b[32m━━━━━━━━━━━━━━━━━━\u001b[0m\u001b[37m━━\u001b[0m \u001b[1m0s\u001b[0m 13ms/step - accuracy: 0.9849 - loss: 0.1414 - precision_6: 0.9973 - recall_6: 0.9510\n",
            "Epoch 11: loss did not improve from 0.15652\n",
            "\u001b[1m45/45\u001b[0m \u001b[32m━━━━━━━━━━━━━━━━━━━━\u001b[0m\u001b[37m\u001b[0m \u001b[1m1s\u001b[0m 17ms/step - accuracy: 0.9836 - loss: 0.1444 - precision_6: 0.9968 - recall_6: 0.9487 - val_accuracy: 0.0000e+00 - val_loss: 60.6167 - val_precision_6: 0.0000e+00 - val_recall_6: 0.0000e+00\n",
            "Epoch 12/300\n",
            "\u001b[1m42/45\u001b[0m \u001b[32m━━━━━━━━━━━━━━━━━━\u001b[0m\u001b[37m━━\u001b[0m \u001b[1m0s\u001b[0m 13ms/step - accuracy: 0.9807 - loss: 0.1485 - precision_6: 0.9944 - recall_6: 0.9524\n",
            "Epoch 12: loss did not improve from 0.15652\n",
            "\u001b[1m45/45\u001b[0m \u001b[32m━━━━━━━━━━━━━━━━━━━━\u001b[0m\u001b[37m\u001b[0m \u001b[1m1s\u001b[0m 16ms/step - accuracy: 0.9797 - loss: 0.1508 - precision_6: 0.9941 - recall_6: 0.9507 - val_accuracy: 0.0000e+00 - val_loss: 60.5419 - val_precision_6: 0.0000e+00 - val_recall_6: 0.0000e+00\n",
            "Epoch 13/300\n",
            "\u001b[1m44/45\u001b[0m \u001b[32m━━━━━━━━━━━━━━━━━━━\u001b[0m\u001b[37m━\u001b[0m \u001b[1m0s\u001b[0m 14ms/step - accuracy: 0.9720 - loss: 0.1893 - precision_6: 0.9920 - recall_6: 0.9320\n",
            "Epoch 13: loss did not improve from 0.15652\n",
            "\u001b[1m45/45\u001b[0m \u001b[32m━━━━━━━━━━━━━━━━━━━━\u001b[0m\u001b[37m\u001b[0m \u001b[1m1s\u001b[0m 16ms/step - accuracy: 0.9713 - loss: 0.1909 - precision_6: 0.9916 - recall_6: 0.9309 - val_accuracy: 0.0000e+00 - val_loss: 60.9368 - val_precision_6: 0.0000e+00 - val_recall_6: 0.0000e+00\n",
            "Epoch 14/300\n",
            "\u001b[1m44/45\u001b[0m \u001b[32m━━━━━━━━━━━━━━━━━━━\u001b[0m\u001b[37m━\u001b[0m \u001b[1m0s\u001b[0m 14ms/step - accuracy: 0.9520 - loss: 0.2491 - precision_6: 0.9803 - recall_6: 0.8909\n",
            "Epoch 14: loss did not improve from 0.15652\n",
            "\u001b[1m45/45\u001b[0m \u001b[32m━━━━━━━━━━━━━━━━━━━━\u001b[0m\u001b[37m\u001b[0m \u001b[1m1s\u001b[0m 18ms/step - accuracy: 0.9510 - loss: 0.2522 - precision_6: 0.9794 - recall_6: 0.8896 - val_accuracy: 0.0000e+00 - val_loss: 59.8875 - val_precision_6: 0.0000e+00 - val_recall_6: 0.0000e+00\n",
            "Epoch 15/300\n",
            "\u001b[1m41/45\u001b[0m \u001b[32m━━━━━━━━━━━━━━━━━━\u001b[0m\u001b[37m━━\u001b[0m \u001b[1m0s\u001b[0m 13ms/step - accuracy: 0.8503 - loss: 0.4891 - precision_6: 0.9115 - recall_6: 0.7895\n",
            "Epoch 15: loss did not improve from 0.15652\n",
            "\u001b[1m45/45\u001b[0m \u001b[32m━━━━━━━━━━━━━━━━━━━━\u001b[0m\u001b[37m\u001b[0m \u001b[1m1s\u001b[0m 17ms/step - accuracy: 0.8423 - loss: 0.5101 - precision_6: 0.9053 - recall_6: 0.7796 - val_accuracy: 0.0000e+00 - val_loss: 59.9842 - val_precision_6: 0.0000e+00 - val_recall_6: 0.0000e+00\n",
            "Epoch 16/300\n",
            "\u001b[1m43/45\u001b[0m \u001b[32m━━━━━━━━━━━━━━━━━━━\u001b[0m\u001b[37m━\u001b[0m \u001b[1m0s\u001b[0m 14ms/step - accuracy: 0.7232 - loss: 0.8945 - precision_6: 0.7979 - recall_6: 0.6410\n",
            "Epoch 16: loss did not improve from 0.15652\n",
            "\u001b[1m45/45\u001b[0m \u001b[32m━━━━━━━━━━━━━━━━━━━━\u001b[0m\u001b[37m\u001b[0m \u001b[1m1s\u001b[0m 16ms/step - accuracy: 0.7191 - loss: 0.9063 - precision_6: 0.7938 - recall_6: 0.6368 - val_accuracy: 0.0000e+00 - val_loss: 60.0324 - val_precision_6: 0.0000e+00 - val_recall_6: 0.0000e+00\n",
            "Epoch 17/300\n",
            "\u001b[1m44/45\u001b[0m \u001b[32m━━━━━━━━━━━━━━━━━━━\u001b[0m\u001b[37m━\u001b[0m \u001b[1m0s\u001b[0m 13ms/step - accuracy: 0.7329 - loss: 0.9144 - precision_6: 0.7868 - recall_6: 0.6528\n",
            "Epoch 17: loss did not improve from 0.15652\n",
            "\u001b[1m45/45\u001b[0m \u001b[32m━━━━━━━━━━━━━━━━━━━━\u001b[0m\u001b[37m\u001b[0m \u001b[1m1s\u001b[0m 16ms/step - accuracy: 0.7311 - loss: 0.9171 - precision_6: 0.7857 - recall_6: 0.6508 - val_accuracy: 0.0000e+00 - val_loss: 61.0880 - val_precision_6: 0.0000e+00 - val_recall_6: 0.0000e+00\n",
            "Epoch 18/300\n",
            "\u001b[1m44/45\u001b[0m \u001b[32m━━━━━━━━━━━━━━━━━━━\u001b[0m\u001b[37m━\u001b[0m \u001b[1m0s\u001b[0m 14ms/step - accuracy: 0.8354 - loss: 0.5330 - precision_6: 0.8929 - recall_6: 0.7670\n",
            "Epoch 18: loss did not improve from 0.15652\n",
            "\u001b[1m45/45\u001b[0m \u001b[32m━━━━━━━━━━━━━━━━━━━━\u001b[0m\u001b[37m\u001b[0m \u001b[1m1s\u001b[0m 18ms/step - accuracy: 0.8346 - loss: 0.5354 - precision_6: 0.8920 - recall_6: 0.7659 - val_accuracy: 0.0000e+00 - val_loss: 59.8613 - val_precision_6: 0.0000e+00 - val_recall_6: 0.0000e+00\n",
            "Epoch 19/300\n",
            "\u001b[1m44/45\u001b[0m \u001b[32m━━━━━━━━━━━━━━━━━━━\u001b[0m\u001b[37m━\u001b[0m \u001b[1m0s\u001b[0m 22ms/step - accuracy: 0.9058 - loss: 0.3584 - precision_6: 0.9497 - recall_6: 0.8423\n",
            "Epoch 19: loss did not improve from 0.15652\n",
            "\u001b[1m45/45\u001b[0m \u001b[32m━━━━━━━━━━━━━━━━━━━━\u001b[0m\u001b[37m\u001b[0m \u001b[1m2s\u001b[0m 27ms/step - accuracy: 0.9050 - loss: 0.3598 - precision_6: 0.9492 - recall_6: 0.8412 - val_accuracy: 0.0000e+00 - val_loss: 60.2052 - val_precision_6: 0.0000e+00 - val_recall_6: 0.0000e+00\n",
            "Epoch 20/300\n",
            "\u001b[1m45/45\u001b[0m \u001b[32m━━━━━━━━━━━━━━━━━━━━\u001b[0m\u001b[37m\u001b[0m \u001b[1m0s\u001b[0m 23ms/step - accuracy: 0.9490 - loss: 0.2453 - precision_6: 0.9760 - recall_6: 0.8984\n",
            "Epoch 20: loss did not improve from 0.15652\n",
            "\u001b[1m45/45\u001b[0m \u001b[32m━━━━━━━━━━━━━━━━━━━━\u001b[0m\u001b[37m\u001b[0m \u001b[1m1s\u001b[0m 27ms/step - accuracy: 0.9488 - loss: 0.2458 - precision_6: 0.9759 - recall_6: 0.8981 - val_accuracy: 0.0000e+00 - val_loss: 60.3074 - val_precision_6: 0.0000e+00 - val_recall_6: 0.0000e+00\n",
            "Epoch 21/300\n",
            "\u001b[1m45/45\u001b[0m \u001b[32m━━━━━━━━━━━━━━━━━━━━\u001b[0m\u001b[37m\u001b[0m \u001b[1m0s\u001b[0m 24ms/step - accuracy: 0.9785 - loss: 0.1736 - precision_6: 0.9937 - recall_6: 0.9416\n",
            "Epoch 21: loss did not improve from 0.15652\n",
            "\u001b[1m45/45\u001b[0m \u001b[32m━━━━━━━━━━━━━━━━━━━━\u001b[0m\u001b[37m\u001b[0m \u001b[1m1s\u001b[0m 27ms/step - accuracy: 0.9783 - loss: 0.1739 - precision_6: 0.9937 - recall_6: 0.9414 - val_accuracy: 0.0000e+00 - val_loss: 60.5109 - val_precision_6: 0.0000e+00 - val_recall_6: 0.0000e+00\n",
            "Epoch 22/300\n",
            "\u001b[1m44/45\u001b[0m \u001b[32m━━━━━━━━━━━━━━━━━━━\u001b[0m\u001b[37m━\u001b[0m \u001b[1m0s\u001b[0m 14ms/step - accuracy: 0.9870 - loss: 0.1402 - precision_6: 0.9959 - recall_6: 0.9539\n",
            "Epoch 22: loss improved from 0.15652 to 0.15014, saving model to /content/ROTC_chatbot_model_checkpoint.keras\n",
            "\u001b[1m45/45\u001b[0m \u001b[32m━━━━━━━━━━━━━━━━━━━━\u001b[0m\u001b[37m\u001b[0m \u001b[1m1s\u001b[0m 17ms/step - accuracy: 0.9869 - loss: 0.1406 - precision_6: 0.9958 - recall_6: 0.9537 - val_accuracy: 0.0000e+00 - val_loss: 60.5682 - val_precision_6: 0.0000e+00 - val_recall_6: 0.0000e+00\n",
            "Epoch 23/300\n",
            "\u001b[1m43/45\u001b[0m \u001b[32m━━━━━━━━━━━━━━━━━━━\u001b[0m\u001b[37m━\u001b[0m \u001b[1m0s\u001b[0m 14ms/step - accuracy: 0.9896 - loss: 0.1267 - precision_6: 0.9994 - recall_6: 0.9632\n",
            "Epoch 23: loss improved from 0.15014 to 0.13064, saving model to /content/ROTC_chatbot_model_checkpoint.keras\n",
            "\u001b[1m45/45\u001b[0m \u001b[32m━━━━━━━━━━━━━━━━━━━━\u001b[0m\u001b[37m\u001b[0m \u001b[1m1s\u001b[0m 17ms/step - accuracy: 0.9896 - loss: 0.1269 - precision_6: 0.9993 - recall_6: 0.9628 - val_accuracy: 0.0000e+00 - val_loss: 60.6316 - val_precision_6: 0.0000e+00 - val_recall_6: 0.0000e+00\n",
            "Epoch 24/300\n",
            "\u001b[1m45/45\u001b[0m \u001b[32m━━━━━━━━━━━━━━━━━━━━\u001b[0m\u001b[37m\u001b[0m \u001b[1m0s\u001b[0m 13ms/step - accuracy: 0.9951 - loss: 0.1071 - precision_6: 0.9982 - recall_6: 0.9741\n",
            "Epoch 24: loss improved from 0.13064 to 0.12281, saving model to /content/ROTC_chatbot_model_checkpoint.keras\n",
            "\u001b[1m45/45\u001b[0m \u001b[32m━━━━━━━━━━━━━━━━━━━━\u001b[0m\u001b[37m\u001b[0m \u001b[1m1s\u001b[0m 16ms/step - accuracy: 0.9950 - loss: 0.1074 - precision_6: 0.9981 - recall_6: 0.9737 - val_accuracy: 0.0000e+00 - val_loss: 60.3703 - val_precision_6: 0.0000e+00 - val_recall_6: 0.0000e+00\n",
            "Epoch 25/300\n",
            "\u001b[1m45/45\u001b[0m \u001b[32m━━━━━━━━━━━━━━━━━━━━\u001b[0m\u001b[37m\u001b[0m \u001b[1m0s\u001b[0m 13ms/step - accuracy: 0.9971 - loss: 0.0994 - precision_6: 0.9998 - recall_6: 0.9693\n",
            "Epoch 25: loss improved from 0.12281 to 0.11554, saving model to /content/ROTC_chatbot_model_checkpoint.keras\n",
            "\n",
            "Epoch 25: Accuracy has reached 0.99, stopping training.\n",
            "\u001b[1m45/45\u001b[0m \u001b[32m━━━━━━━━━━━━━━━━━━━━\u001b[0m\u001b[37m\u001b[0m \u001b[1m1s\u001b[0m 17ms/step - accuracy: 0.9970 - loss: 0.0997 - precision_6: 0.9998 - recall_6: 0.9692 - val_accuracy: 0.0000e+00 - val_loss: 60.4158 - val_precision_6: 0.0000e+00 - val_recall_6: 0.0000e+00\n"
          ]
        }
      ]
    },
    {
      "cell_type": "code",
      "source": [
        "# Save the retrained model\n",
        "model.save('/content/ROTC_chatbot_model.keras')\n",
        "\n",
        "print(\"Model saved as 'ROTC_chatbot_model.keras'\")"
      ],
      "metadata": {
        "colab": {
          "base_uri": "https://localhost:8080/"
        },
        "id": "ZhLVPuRueE9U",
        "outputId": "fb57298c-dde8-4288-c92d-3655a96a3d42"
      },
      "execution_count": null,
      "outputs": [
        {
          "output_type": "stream",
          "name": "stdout",
          "text": [
            "Model saved as 'ROTC_chatbot_model.keras'\n"
          ]
        }
      ]
    },
    {
      "cell_type": "markdown",
      "source": [
        "# Step 10: Function to predict responses\n"
      ],
      "metadata": {
        "id": "8bnqLmsSAUw7"
      }
    },
    {
      "cell_type": "code",
      "source": [
        "# Function to predict responses\n",
        "def get_response(text):\n",
        "    cleaned_text = clean_text(text)  # Ensure the text is preprocessed\n",
        "    seq = tokenizer.texts_to_sequences([cleaned_text])\n",
        "    padded = pad_sequences(seq, maxlen=X_pad.shape[1], padding='post')\n",
        "    pred = model.predict(padded)\n",
        "    response_idx = np.argmax(pred)\n",
        "    # Extract formatted response (includes Attribute and Correlation)\n",
        "    formatted_response = df['Formatted_Response'].iloc[response_idx]\n",
        "    # Split into main response, attributes, and correlation\n",
        "    main_response = formatted_response.split(\" | \")[0]  # Main response (before 'Attributes')\n",
        "    attributes = formatted_response.split(\" | \")[1].replace(\"Attributes - \", \"\")  # Extract attributes\n",
        "    correlation = formatted_response.split(\" | \")[2].replace(\"Correlation - \", \"\")  # Extract correlation\n",
        "    return f\"Chatbot: {main_response}\\nAttributes: {attributes}\\nCorrelation: {correlation}\"\n",
        "\n"
      ],
      "metadata": {
        "id": "ws99yBZnAX5W"
      },
      "execution_count": null,
      "outputs": []
    },
    {
      "cell_type": "markdown",
      "source": [
        "# Step 11: Chatbot loop for testing"
      ],
      "metadata": {
        "id": "qEtFb1ZgAaNx"
      }
    },
    {
      "cell_type": "code",
      "source": [
        "\"\"\"# Step 11: Chatbot loop for testing\"\"\"\n",
        "\n",
        "# Chatbot Loop\n",
        "print(\"HELLO! ASK ME ABOUT ROTC KNOWLEDGE. TYPE 'EXIT' TO END THE CONVERSATION.\")\n",
        "while True:\n",
        "    user_input = input(\"YOU: \")\n",
        "    if user_input.lower() == 'exit':\n",
        "        print(\"GOODBYE!\")\n",
        "        break\n",
        "    response = get_response(user_input)\n",
        "    print(response.upper())  # Convert response to uppercase"
      ],
      "metadata": {
        "colab": {
          "base_uri": "https://localhost:8080/"
        },
        "id": "2qHCcaheZ3Uy",
        "outputId": "02c07a7a-ad77-40bd-8cca-1c6e78c11d14"
      },
      "execution_count": null,
      "outputs": [
        {
          "output_type": "stream",
          "name": "stdout",
          "text": [
            "HELLO! ASK ME ABOUT ROTC KNOWLEDGE. TYPE 'EXIT' TO END THE CONVERSATION.\n",
            "YOU: m16\n",
            "\u001b[1m1/1\u001b[0m \u001b[32m━━━━━━━━━━━━━━━━━━━━\u001b[0m\u001b[37m\u001b[0m \u001b[1m0s\u001b[0m 184ms/step\n",
            "CHATBOT: CONSISTENT APPEARANCE AND ACTIONS AMONG PERSONNEL\n",
            "ATTRIBUTES: UNIFORMITY\n",
            "CORRELATION: UNIFORMITY ENSURES SYNCHRONIZATION AND DISCIPLINE\n",
            "YOU: ROTC\n",
            "\u001b[1m1/1\u001b[0m \u001b[32m━━━━━━━━━━━━━━━━━━━━\u001b[0m\u001b[37m\u001b[0m \u001b[1m0s\u001b[0m 39ms/step\n",
            "CHATBOT: ROTC RESERVE OFFICERS TRAINING CORPS IS A PROGRAM DESIGNED TO TRAIN STUDENTS FOR LEADERSHIP ROLES IN THE MILITARY\n",
            "ATTRIBUTES: ROTC\n",
            "CORRELATION: BASIC INTRODUCTION TO ROTC\n",
            "YOU: What is ROTC\n",
            "\u001b[1m1/1\u001b[0m \u001b[32m━━━━━━━━━━━━━━━━━━━━\u001b[0m\u001b[37m\u001b[0m \u001b[1m0s\u001b[0m 28ms/step\n",
            "CHATBOT: ROTC RESERVE OFFICERS TRAINING CORPS IS A PROGRAM DESIGNED TO TRAIN STUDENTS FOR LEADERSHIP ROLES IN THE MILITARY\n",
            "ATTRIBUTES: ROTC\n",
            "CORRELATION: BASIC INTRODUCTION TO ROTC\n",
            "YOU: M16\n",
            "\u001b[1m1/1\u001b[0m \u001b[32m━━━━━━━━━━━━━━━━━━━━\u001b[0m\u001b[37m\u001b[0m \u001b[1m0s\u001b[0m 30ms/step\n",
            "CHATBOT: CONSISTENT APPEARANCE AND ACTIONS AMONG PERSONNEL\n",
            "ATTRIBUTES: UNIFORMITY\n",
            "CORRELATION: UNIFORMITY ENSURES SYNCHRONIZATION AND DISCIPLINE\n",
            "YOU: Shotgun\n",
            "\u001b[1m1/1\u001b[0m \u001b[32m━━━━━━━━━━━━━━━━━━━━\u001b[0m\u001b[37m\u001b[0m \u001b[1m0s\u001b[0m 27ms/step\n",
            "CHATBOT: A SHOTGUN FIRES MULTIPLE PELLETS AT ONCE MAKING IT IDEAL FOR COMBAT\n",
            "ATTRIBUTES: WEAPONS AND EQUIPMENT\n",
            "CORRELATION: SHOTGUNS ARE OFTEN USED IN SPECIALIZED SITUATIONS SUCH AS CLEARING ROOMS OR PROVIDING SUPPRESSIVE FIRE\n",
            "YOU: Helicopter\n",
            "\u001b[1m1/1\u001b[0m \u001b[32m━━━━━━━━━━━━━━━━━━━━\u001b[0m\u001b[37m\u001b[0m \u001b[1m0s\u001b[0m 27ms/step\n",
            "CHATBOT: MILITARY HELICOPTERS PROVIDE AIR SUPPORT TRANSPORTATION AND SURVEILLANCE\n",
            "ATTRIBUTES: WEAPONS AND EQUIPMENT\n",
            "CORRELATION: HELICOPTERS ARE VERSATILE USED FOR QUICK TROOP MOVEMENT ATTACK AND RECONNAISSANCE\n",
            "YOU: Leadership\n",
            "\u001b[1m1/1\u001b[0m \u001b[32m━━━━━━━━━━━━━━━━━━━━\u001b[0m\u001b[37m\u001b[0m \u001b[1m0s\u001b[0m 44ms/step\n",
            "CHATBOT: LEADERSHIP IS ESSENTIAL FOR GUIDING TEAMS AND MAKING DECISIONS\n",
            "ATTRIBUTES: LEADERSHIP\n",
            "CORRELATION: LEADERSHIP ENSURES THE SUCCESS OF THE UNIT AND MISSION\n",
            "YOU: What is Leadership\n",
            "\u001b[1m1/1\u001b[0m \u001b[32m━━━━━━━━━━━━━━━━━━━━\u001b[0m\u001b[37m\u001b[0m \u001b[1m0s\u001b[0m 28ms/step\n",
            "CHATBOT: LEADERSHIP IS THE ABILITY TO INFLUENCE AND GUIDE INDIVIDUALS OR GROUPS TOWARDS ACHIEVING A COMMON GOAL\n",
            "ATTRIBUTES: LEADERSHIP\n",
            "CORRELATION: LEADERSHIP IS ESSENTIAL FOR ACHIEVING OBJECTIVES AND SUCCESS\n",
            "YOU: What is ROTC\n",
            "\u001b[1m1/1\u001b[0m \u001b[32m━━━━━━━━━━━━━━━━━━━━\u001b[0m\u001b[37m\u001b[0m \u001b[1m0s\u001b[0m 32ms/step\n",
            "CHATBOT: ROTC RESERVE OFFICERS TRAINING CORPS IS A PROGRAM DESIGNED TO TRAIN STUDENTS FOR LEADERSHIP ROLES IN THE MILITARY\n",
            "ATTRIBUTES: ROTC\n",
            "CORRELATION: BASIC INTRODUCTION TO ROTC\n",
            "YOU: exit\n",
            "GOODBYE!\n"
          ]
        }
      ]
    },
    {
      "cell_type": "markdown",
      "source": [
        "# Step 12: Feedback CSV Collection"
      ],
      "metadata": {
        "id": "VPPfkppesITL"
      }
    },
    {
      "cell_type": "code",
      "source": [
        "import csv\n",
        "\n",
        "# Ensure the feedback file exists and has the correct columns\n",
        "feedback_file = 'ROTC_Feedback.csv'\n",
        "if not os.path.exists(feedback_file):\n",
        "    with open(feedback_file, mode='w', newline='', encoding='utf-8') as file:\n",
        "        writer = csv.writer(file)\n",
        "        writer.writerow(['Attribute', 'Pattern', 'Response', 'Correlation'])  # Column headers\n",
        "\n",
        "# Chatbot Loop\n",
        "print(\"HELLO! ASK ME ABOUT ROTC KNOWLEDGE. TYPE 'EXIT' TO END THE CONVERSATION.\")\n",
        "while True:\n",
        "    user_input = input(\"YOU: \")\n",
        "    if user_input.lower() == 'exit':\n",
        "        print(\"GOODBYE!\")\n",
        "        break\n",
        "\n",
        "    # Get chatbot response\n",
        "    response = get_response(user_input)\n",
        "    print(response.upper())  # Convert response to uppercase\n",
        "\n",
        "    # Prompt user for feedback\n",
        "    feedback = input(\"IS THIS RESPONSE CORRECT? (YES/NO): \").strip().lower()\n",
        "\n",
        "    if feedback == 'no':\n",
        "        print(\"PLEASE HELP ME IMPROVE!\")\n",
        "        corrected_pattern = input(\"ENTER THE CORRECT PATTERN OR QUESTION: \").strip()\n",
        "        corrected_response = input(\"ENTER THE CORRECT RESPONSE: \").strip()\n",
        "        corrected_attribute = input(\"ENTER THE RELATED ATTRIBUTE: \").strip()\n",
        "        corrected_correlation = input(\"ENTER THE CORRELATION: \").strip()\n",
        "\n",
        "        # Save the corrected feedback to the feedback dataset\n",
        "        with open(feedback_file, mode='a', newline='', encoding='utf-8') as file:\n",
        "            writer = csv.writer(file)\n",
        "            writer.writerow([corrected_attribute, corrected_pattern, corrected_response, corrected_correlation])\n",
        "        print(\"THANK YOU FOR YOUR FEEDBACK! IT HAS BEEN RECORDED.\")\n",
        "\n",
        "    elif feedback == 'yes':\n",
        "        print(\"GLAD I COULD HELP!\")\n",
        "\n",
        "print(\"CHATBOT SESSION ENDED.\")\n",
        "\n"
      ],
      "metadata": {
        "colab": {
          "base_uri": "https://localhost:8080/"
        },
        "id": "lsUrszN-fbEn",
        "outputId": "aa0245c0-0e40-4d42-dd3a-a6b438be2971"
      },
      "execution_count": null,
      "outputs": [
        {
          "output_type": "stream",
          "name": "stdout",
          "text": [
            "HELLO! ASK ME ABOUT ROTC KNOWLEDGE. TYPE 'EXIT' TO END THE CONVERSATION.\n",
            "YOU: Leadership\n",
            "\u001b[1m1/1\u001b[0m \u001b[32m━━━━━━━━━━━━━━━━━━━━\u001b[0m\u001b[37m\u001b[0m \u001b[1m0s\u001b[0m 22ms/step\n",
            "CHATBOT: LEADERSHIP IS ESSENTIAL FOR GUIDING TEAMS AND MAKING DECISIONS\n",
            "ATTRIBUTES: LEADERSHIP\n",
            "CORRELATION: LEADERSHIP ENSURES THE SUCCESS OF THE UNIT AND MISSION\n",
            "IS THIS RESPONSE CORRECT? (YES/NO): YES\n",
            "GLAD I COULD HELP!\n",
            "YOU: Leadship\n",
            "\u001b[1m1/1\u001b[0m \u001b[32m━━━━━━━━━━━━━━━━━━━━\u001b[0m\u001b[37m\u001b[0m \u001b[1m0s\u001b[0m 21ms/step\n",
            "CHATBOT: IS VITAL IN ROTC FOR MAINTAINING FOCUS AND HANDLING STRESS\n",
            "ATTRIBUTES: \n",
            "CORRELATION: HELPS MANAGE EMOTIONS AND STAY FOCUSED\n",
            "IS THIS RESPONSE CORRECT? (YES/NO): NO\n",
            "PLEASE HELP ME IMPROVE!\n",
            "ENTER THE CORRECT PATTERN OR QUESTION: Leadship\n",
            "ENTER THE CORRECT RESPONSE: EADERSHIP IS ESSENTIAL FOR GUIDING TEAMS AND MAKING DECISIONS\n",
            "ENTER THE RELATED ATTRIBUTE: LEADERSHIP\n",
            "ENTER THE CORRELATION: LEADERSHIP ENSURES THE SUCCESS OF THE UNIT AND MISSION\n",
            "THANK YOU FOR YOUR FEEDBACK! IT HAS BEEN RECORDED.\n",
            "YOU: exit\n",
            "GOODBYE!\n",
            "CHATBOT SESSION ENDED.\n"
          ]
        }
      ]
    }
  ]
}